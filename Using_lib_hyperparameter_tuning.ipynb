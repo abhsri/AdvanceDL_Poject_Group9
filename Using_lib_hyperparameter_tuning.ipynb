{
 "cells": [
  {
   "cell_type": "code",
   "execution_count": 1,
   "metadata": {},
   "outputs": [
    {
     "name": "stderr",
     "output_type": "stream",
     "text": [
      "c:\\Users\\asrkpx\\Anaconda3\\envs\\Advance_dl_project\\lib\\site-packages\\tensorflow_addons\\utils\\ensure_tf_install.py:53: UserWarning: Tensorflow Addons supports using Python ops for all Tensorflow versions above or equal to 2.8.0 and strictly below 2.11.0 (nightly versions are not supported). \n",
      " The versions of TensorFlow you are currently using is 2.6.0 and is not supported. \n",
      "Some things might work, some things might not.\n",
      "If you were to encounter a bug, do not file an issue.\n",
      "If you want to make sure you're using a tested and supported configuration, either change the TensorFlow version or the TensorFlow Addons's version. \n",
      "You can find the compatibility matrix in TensorFlow Addon's readme:\n",
      "https://github.com/tensorflow/addons\n",
      "  warnings.warn(\n",
      "c:\\Users\\asrkpx\\Anaconda3\\envs\\Advance_dl_project\\lib\\site-packages\\tqdm\\auto.py:22: TqdmWarning: IProgress not found. Please update jupyter and ipywidgets. See https://ipywidgets.readthedocs.io/en/stable/user_install.html\n",
      "  from .autonotebook import tqdm as notebook_tqdm\n"
     ]
    },
    {
     "name": "stdout",
     "output_type": "stream",
     "text": [
      "TensorFlow version: 2.6.0\n",
      "TensorFlow Addon version: 0.18.0\n"
     ]
    }
   ],
   "source": [
    "\n",
    "# Import general packages\n",
    "import os\n",
    "import copy\n",
    "import matplotlib.pyplot as plt\n",
    "import numpy as np\n",
    "\n",
    "# Variables\n",
    "%matplotlib inline\n",
    "\n",
    "\n",
    "# Tensorflow versions\n",
    "import tensorflow as tf\n",
    "\n",
    "# Handle not pre-installed packages \n",
    "try: \n",
    "    import tensorflow_addons as tfa\n",
    "except:\n",
    "    os.system(\"pip install tensorflow-addons\")\n",
    "    import tensorflow_addons as tfa\n",
    "\n",
    "try: \n",
    "    import optuna\n",
    "except:\n",
    "    os.system(\"pip install optuna\")\n",
    "    import optuna\n",
    "\n",
    "# Print TensorFlow versions\n",
    "print(\"TensorFlow version:\", tf.__version__)\n",
    "print(\"TensorFlow Addon version:\", tfa.__version__)\n"
   ]
  },
  {
   "cell_type": "code",
   "execution_count": 2,
   "metadata": {},
   "outputs": [],
   "source": [
    "\n",
    "import self_classifier as sc"
   ]
  },
  {
   "cell_type": "markdown",
   "metadata": {},
   "source": [
    "## MNIST"
   ]
  },
  {
   "cell_type": "code",
   "execution_count": 10,
   "metadata": {},
   "outputs": [],
   "source": [
    "# Create config variable\n",
    "config = {\n",
    "    # Data Parameter\n",
    "    'DATASET' : tf.keras.datasets.mnist,\n",
    "    'IMAGE_SHAPE' : (28,28,1),\n",
    "    'IMAGE_SIZE' : 32, \n",
    "    'BATCH_SIZE' : 64,\n",
    "    'CLASS_COUNT' : 100,\n",
    "    'N_AUG' : 5,\n",
    "    # Training parameters\n",
    "    'LR_SCHED' : \"WarmUpCosineDecay\",\n",
    "    'OPTIM' : tf.keras.optimizers.Adam(),\n",
    "    'EPOCHS' : 50,\n",
    "    'MAX_LR' : 0.005,\n",
    "}"
   ]
  },
  {
   "cell_type": "code",
   "execution_count": 5,
   "metadata": {},
   "outputs": [
    {
     "name": "stdout",
     "output_type": "stream",
     "text": [
      "Generating new test augmentation dataset...\n",
      " => augment 1 complete\n",
      " => augment 2 complete\n",
      " => augment 3 complete\n",
      " => augment 4 complete\n",
      " => augment 5 complete\n",
      "Saving new train dataset...[done]\n"
     ]
    }
   ],
   "source": [
    "train_loader = sc.DataLoader(in_path=\"datasets/mnist/train\", mkdir=True)\n",
    "train_ds = train_loader.get_train(config=config,extend_axis=True)"
   ]
  },
  {
   "cell_type": "code",
   "execution_count": 6,
   "metadata": {},
   "outputs": [
    {
     "name": "stdout",
     "output_type": "stream",
     "text": [
      "Generating new test augmentation dataset...\n",
      " => augment 1 complete\n",
      " => augment 2 complete\n",
      " => augment 3 complete\n",
      " => augment 4 complete\n",
      " => augment 5 complete\n",
      "Saving new test dataset...[done]\n"
     ]
    }
   ],
   "source": [
    "\n",
    "test_loader = sc.DataLoader(in_path=\"datasets/mnist/test\", mkdir=True)\n",
    "test_ds = test_loader.get_test(config=config,extend_axis=True)\n"
   ]
  },
  {
   "cell_type": "code",
   "execution_count": 7,
   "metadata": {},
   "outputs": [
    {
     "data": {
      "text/plain": [
       "<BatchDataset shapes: ((None, 28, 28, 1), (None, 28, 28, 1), (None, 28, 28, 1), (None, 28, 28, 1), (None, 28, 28, 1), (None, 28, 28, 1)), types: (tf.float32, tf.float32, tf.float32, tf.float32, tf.float32, tf.float32)>"
      ]
     },
     "execution_count": 7,
     "metadata": {},
     "output_type": "execute_result"
    }
   ],
   "source": [
    "train_ds"
   ]
  },
  {
   "cell_type": "code",
   "execution_count": 19,
   "metadata": {},
   "outputs": [],
   "source": [
    "def training_run():\n",
    "    # Create a data recorder and fit the data\n",
    "    recorder = sc.DataRecorder()\n",
    "\n",
    "    # Instansiate loss function\n",
    "    loss_object_test = None #this is not need, to be removed\n",
    "    # Instansiate SelfClassifier loss function\n",
    "    loss_object_train = sc.SelfClassifier(n_batch=config['BATCH_SIZE'], \n",
    "                        n_class=config['CLASS_COUNT'], t_r=0.1, t_c=0.05)\n",
    "    # Instansiate optimizer \n",
    "    optimizer = config['OPTIM']\n",
    "    optimizer.lr = 0.0001\n",
    "    #optimizer.learning_rate = sc.lr_schedular(config, config['LR_SCHED'],len(train_ds))\n",
    "    \n",
    "    # Select backbone \n",
    "    backbone = \"EfficientNetB1\"\n",
    "\n",
    "    # Create an instance of the model\n",
    "    \n",
    "    model = sc.DynamicModel(input_shape=config['IMAGE_SHAPE'], output_shape=config['CLASS_COUNT'], n_nodes=10, n_layers=3, if_conv_layer=False)\n",
    "\n",
    "    learner = sc.UnderSupervisedLearner(model=model, optimizer=optimizer,\n",
    "                                 loss_object_train=loss_object_train,\n",
    "                                 loss_object_test=loss_object_test,\n",
    "                                 recorder=recorder)\n",
    "    # Train the model\n",
    "    return learner.fit(config=config, train_ds=train_ds,\n",
    "                       test_ds=test_ds, plot_every=20)"
   ]
  },
  {
   "cell_type": "code",
   "execution_count": 20,
   "metadata": {},
   "outputs": [
    {
     "name": "stdout",
     "output_type": "stream",
     "text": [
      "============================== EPOCH 1 ==============================\n"
     ]
    },
    {
     "name": "stderr",
     "output_type": "stream",
     "text": [
      "Training: 100%|██████████| 938/938 [00:25<00:00, 36.24it/s]\n",
      "Validation: 100%|██████████| 157/157 [00:03<00:00, 51.88it/s]\n"
     ]
    },
    {
     "name": "stdout",
     "output_type": "stream",
     "text": [
      "Epoch 1, Learning Rate: 0.00010, Epoch time: 28.93 seconds\n",
      "Loss: 4.596, Valid Loss: 4.5749, NMI: 0.3749, AMI: 0.0568, ARI: 0.0457, ACC: 0.3118, \n",
      "============================== EPOCH 2 ==============================\n"
     ]
    },
    {
     "name": "stderr",
     "output_type": "stream",
     "text": [
      "Training: 100%|██████████| 938/938 [00:23<00:00, 40.14it/s]\n",
      "Validation: 100%|██████████| 157/157 [00:02<00:00, 77.15it/s]\n"
     ]
    },
    {
     "name": "stdout",
     "output_type": "stream",
     "text": [
      "Epoch 2, Learning Rate: 0.00010, Epoch time: 25.41 seconds\n",
      "Loss: 4.586, Valid Loss: 4.5597, NMI: 0.3013, AMI: 0.0701, ARI: 0.0382, ACC: 0.2944, \n",
      "============================== EPOCH 3 ==============================\n"
     ]
    },
    {
     "name": "stderr",
     "output_type": "stream",
     "text": [
      "Training: 100%|██████████| 938/938 [00:21<00:00, 43.42it/s]\n",
      "Validation: 100%|██████████| 157/157 [00:02<00:00, 74.50it/s]\n"
     ]
    },
    {
     "name": "stdout",
     "output_type": "stream",
     "text": [
      "Epoch 3, Learning Rate: 0.00010, Epoch time: 23.73 seconds\n",
      "Loss: 4.572, Valid Loss: 4.5581, NMI: 0.3060, AMI: 0.0653, ARI: 0.0337, ACC: 0.2944, \n",
      "============================== EPOCH 4 ==============================\n"
     ]
    },
    {
     "name": "stderr",
     "output_type": "stream",
     "text": [
      "Training: 100%|██████████| 938/938 [00:22<00:00, 41.29it/s]\n",
      "Validation: 100%|██████████| 157/157 [00:02<00:00, 73.94it/s]\n"
     ]
    },
    {
     "name": "stdout",
     "output_type": "stream",
     "text": [
      "Epoch 4, Learning Rate: 0.00010, Epoch time: 24.85 seconds\n",
      "Loss: 4.567, Valid Loss: 4.5582, NMI: 0.3215, AMI: 0.0723, ARI: 0.0382, ACC: 0.3002, \n",
      "============================== EPOCH 5 ==============================\n"
     ]
    },
    {
     "name": "stderr",
     "output_type": "stream",
     "text": [
      "Training: 100%|██████████| 938/938 [00:22<00:00, 42.21it/s]\n",
      "Validation: 100%|██████████| 157/157 [00:02<00:00, 75.81it/s]\n"
     ]
    },
    {
     "name": "stdout",
     "output_type": "stream",
     "text": [
      "Epoch 5, Learning Rate: 0.00010, Epoch time: 24.32 seconds\n",
      "Loss: 4.564, Valid Loss: 4.5532, NMI: 0.3268, AMI: 0.0701, ARI: 0.0379, ACC: 0.3064, \n",
      "============================== EPOCH 6 ==============================\n"
     ]
    },
    {
     "name": "stderr",
     "output_type": "stream",
     "text": [
      "Training: 100%|██████████| 938/938 [00:21<00:00, 42.79it/s]\n",
      "Validation: 100%|██████████| 157/157 [00:02<00:00, 74.31it/s]\n"
     ]
    },
    {
     "name": "stdout",
     "output_type": "stream",
     "text": [
      "Epoch 6, Learning Rate: 0.00010, Epoch time: 24.04 seconds\n",
      "Loss: 4.559, Valid Loss: 4.5475, NMI: 0.3419, AMI: 0.0822, ARI: 0.0438, ACC: 0.3117, \n",
      "============================== EPOCH 7 ==============================\n"
     ]
    },
    {
     "name": "stderr",
     "output_type": "stream",
     "text": [
      "Training: 100%|██████████| 938/938 [00:22<00:00, 41.89it/s]\n",
      "Validation: 100%|██████████| 157/157 [00:02<00:00, 64.59it/s]\n"
     ]
    },
    {
     "name": "stdout",
     "output_type": "stream",
     "text": [
      "Epoch 7, Learning Rate: 0.00010, Epoch time: 24.84 seconds\n",
      "Loss: 4.558, Valid Loss: 4.5392, NMI: 0.3590, AMI: 0.0777, ARI: 0.0454, ACC: 0.3175, \n",
      "============================== EPOCH 8 ==============================\n"
     ]
    },
    {
     "name": "stderr",
     "output_type": "stream",
     "text": [
      "Training: 100%|██████████| 938/938 [00:22<00:00, 41.12it/s]\n",
      "Validation: 100%|██████████| 157/157 [00:02<00:00, 66.30it/s]\n"
     ]
    },
    {
     "name": "stdout",
     "output_type": "stream",
     "text": [
      "Epoch 8, Learning Rate: 0.00010, Epoch time: 25.20 seconds\n",
      "Loss: 4.552, Valid Loss: 4.5369, NMI: 0.3714, AMI: 0.0879, ARI: 0.0466, ACC: 0.3207, \n",
      "============================== EPOCH 9 ==============================\n"
     ]
    },
    {
     "name": "stderr",
     "output_type": "stream",
     "text": [
      "Training: 100%|██████████| 938/938 [00:23<00:00, 40.32it/s]\n",
      "Validation: 100%|██████████| 157/157 [00:02<00:00, 66.00it/s]\n"
     ]
    },
    {
     "name": "stdout",
     "output_type": "stream",
     "text": [
      "Epoch 9, Learning Rate: 0.00010, Epoch time: 25.65 seconds\n",
      "Loss: 4.550, Valid Loss: 4.5347, NMI: 0.3833, AMI: 0.0869, ARI: 0.0467, ACC: 0.3210, \n",
      "============================== EPOCH 10 ==============================\n"
     ]
    },
    {
     "name": "stderr",
     "output_type": "stream",
     "text": [
      "Training: 100%|██████████| 938/938 [00:21<00:00, 43.11it/s]\n",
      "Validation: 100%|██████████| 157/157 [00:02<00:00, 75.77it/s]\n"
     ]
    },
    {
     "name": "stdout",
     "output_type": "stream",
     "text": [
      "Epoch 10, Learning Rate: 0.00010, Epoch time: 23.85 seconds\n",
      "Loss: 4.546, Valid Loss: 4.5395, NMI: 0.4001, AMI: 0.0857, ARI: 0.0468, ACC: 0.3211, \n",
      "============================== EPOCH 11 ==============================\n"
     ]
    },
    {
     "name": "stderr",
     "output_type": "stream",
     "text": [
      "Training: 100%|██████████| 938/938 [00:18<00:00, 51.82it/s]\n",
      "Validation: 100%|██████████| 157/157 [00:01<00:00, 101.39it/s]\n"
     ]
    },
    {
     "name": "stdout",
     "output_type": "stream",
     "text": [
      "Epoch 11, Learning Rate: 0.00010, Epoch time: 19.66 seconds\n",
      "Loss: 4.546, Valid Loss: 4.5345, NMI: 0.4173, AMI: 0.0886, ARI: 0.0508, ACC: 0.3242, \n",
      "============================== EPOCH 12 ==============================\n"
     ]
    },
    {
     "name": "stderr",
     "output_type": "stream",
     "text": [
      "Training: 100%|██████████| 938/938 [00:15<00:00, 61.69it/s]\n",
      "Validation: 100%|██████████| 157/157 [00:01<00:00, 104.78it/s]\n"
     ]
    },
    {
     "name": "stdout",
     "output_type": "stream",
     "text": [
      "Epoch 12, Learning Rate: 0.00010, Epoch time: 16.71 seconds\n",
      "Loss: 4.538, Valid Loss: 4.5182, NMI: 0.4223, AMI: 0.0923, ARI: 0.0544, ACC: 0.3245, \n",
      "============================== EPOCH 13 ==============================\n"
     ]
    },
    {
     "name": "stderr",
     "output_type": "stream",
     "text": [
      "Training: 100%|██████████| 938/938 [00:14<00:00, 64.76it/s]\n",
      "Validation: 100%|██████████| 157/157 [00:01<00:00, 108.94it/s]\n"
     ]
    },
    {
     "name": "stdout",
     "output_type": "stream",
     "text": [
      "Epoch 13, Learning Rate: 0.00010, Epoch time: 15.93 seconds\n",
      "Loss: 4.536, Valid Loss: 4.5150, NMI: 0.4153, AMI: 0.0943, ARI: 0.0540, ACC: 0.3287, \n",
      "============================== EPOCH 14 ==============================\n"
     ]
    },
    {
     "name": "stderr",
     "output_type": "stream",
     "text": [
      "Training: 100%|██████████| 938/938 [00:14<00:00, 65.63it/s]\n",
      "Validation: 100%|██████████| 157/157 [00:01<00:00, 109.60it/s]\n"
     ]
    },
    {
     "name": "stdout",
     "output_type": "stream",
     "text": [
      "Epoch 14, Learning Rate: 0.00010, Epoch time: 15.73 seconds\n",
      "Loss: 4.526, Valid Loss: 4.5137, NMI: 0.4166, AMI: 0.0902, ARI: 0.0520, ACC: 0.3253, \n",
      "============================== EPOCH 15 ==============================\n"
     ]
    },
    {
     "name": "stderr",
     "output_type": "stream",
     "text": [
      "Training: 100%|██████████| 938/938 [00:14<00:00, 65.07it/s]\n",
      "Validation: 100%|██████████| 157/157 [00:01<00:00, 109.96it/s]\n"
     ]
    },
    {
     "name": "stdout",
     "output_type": "stream",
     "text": [
      "Epoch 15, Learning Rate: 0.00010, Epoch time: 15.85 seconds\n",
      "Loss: 4.518, Valid Loss: 4.5084, NMI: 0.4238, AMI: 0.0912, ARI: 0.0533, ACC: 0.3245, \n",
      "============================== EPOCH 16 ==============================\n"
     ]
    },
    {
     "name": "stderr",
     "output_type": "stream",
     "text": [
      "Training: 100%|██████████| 938/938 [00:14<00:00, 65.80it/s]\n",
      "Validation: 100%|██████████| 157/157 [00:01<00:00, 108.09it/s]\n"
     ]
    },
    {
     "name": "stdout",
     "output_type": "stream",
     "text": [
      "Epoch 16, Learning Rate: 0.00010, Epoch time: 15.72 seconds\n",
      "Loss: 4.521, Valid Loss: 4.5142, NMI: 0.4429, AMI: 0.0862, ARI: 0.0520, ACC: 0.3188, \n",
      "============================== EPOCH 17 ==============================\n"
     ]
    },
    {
     "name": "stderr",
     "output_type": "stream",
     "text": [
      "Training: 100%|██████████| 938/938 [00:14<00:00, 66.43it/s]\n",
      "Validation: 100%|██████████| 157/157 [00:01<00:00, 110.18it/s]\n"
     ]
    },
    {
     "name": "stdout",
     "output_type": "stream",
     "text": [
      "Epoch 17, Learning Rate: 0.00010, Epoch time: 15.55 seconds\n",
      "Loss: 4.514, Valid Loss: 4.4983, NMI: 0.4470, AMI: 0.0918, ARI: 0.0554, ACC: 0.3201, \n",
      "============================== EPOCH 18 ==============================\n"
     ]
    },
    {
     "name": "stderr",
     "output_type": "stream",
     "text": [
      "Training: 100%|██████████| 938/938 [00:14<00:00, 65.23it/s]\n",
      "Validation: 100%|██████████| 157/157 [00:01<00:00, 111.83it/s]\n"
     ]
    },
    {
     "name": "stdout",
     "output_type": "stream",
     "text": [
      "Epoch 18, Learning Rate: 0.00010, Epoch time: 15.79 seconds\n",
      "Loss: 4.513, Valid Loss: 4.5087, NMI: 0.4528, AMI: 0.1019, ARI: 0.0612, ACC: 0.3248, \n",
      "============================== EPOCH 19 ==============================\n"
     ]
    },
    {
     "name": "stderr",
     "output_type": "stream",
     "text": [
      "Training: 100%|██████████| 938/938 [00:14<00:00, 64.69it/s]\n",
      "Validation: 100%|██████████| 157/157 [00:01<00:00, 109.98it/s]\n"
     ]
    },
    {
     "name": "stdout",
     "output_type": "stream",
     "text": [
      "Epoch 19, Learning Rate: 0.00010, Epoch time: 15.94 seconds\n",
      "Loss: 4.507, Valid Loss: 4.5003, NMI: 0.4446, AMI: 0.0896, ARI: 0.0533, ACC: 0.3221, \n",
      "============================== EPOCH 20 ==============================\n"
     ]
    },
    {
     "name": "stderr",
     "output_type": "stream",
     "text": [
      "Training: 100%|██████████| 938/938 [00:14<00:00, 65.54it/s]\n",
      "Validation: 100%|██████████| 157/157 [00:01<00:00, 110.98it/s]\n"
     ]
    },
    {
     "name": "stdout",
     "output_type": "stream",
     "text": [
      "Epoch 20, Learning Rate: 0.00010, Epoch time: 15.73 seconds\n",
      "Loss: 4.501, Valid Loss: 4.5080, NMI: 0.4505, AMI: 0.0973, ARI: 0.0581, ACC: 0.3231, \n"
     ]
    },
    {
     "data": {
      "image/png": "[encoded data removed]",
      "text/plain": [
       "<Figure size 1300x600 with 2 Axes>"
      ]
     },
     "metadata": {},
     "output_type": "display_data"
    },
    {
     "name": "stdout",
     "output_type": "stream",
     "text": [
      "============================== EPOCH 21 ==============================\n"
     ]
    },
    {
     "name": "stderr",
     "output_type": "stream",
     "text": [
      "Training: 100%|██████████| 938/938 [00:14<00:00, 63.52it/s]\n",
      "Validation: 100%|██████████| 157/157 [00:01<00:00, 109.99it/s]\n"
     ]
    },
    {
     "name": "stdout",
     "output_type": "stream",
     "text": [
      "Epoch 21, Learning Rate: 0.00010, Epoch time: 16.21 seconds\n",
      "Loss: 4.500, Valid Loss: 4.5129, NMI: 0.4436, AMI: 0.0901, ARI: 0.0527, ACC: 0.3183, \n",
      "============================== EPOCH 22 ==============================\n"
     ]
    },
    {
     "name": "stderr",
     "output_type": "stream",
     "text": [
      "Training: 100%|██████████| 938/938 [00:14<00:00, 65.77it/s]\n",
      "Validation: 100%|██████████| 157/157 [00:01<00:00, 109.36it/s]\n"
     ]
    },
    {
     "name": "stdout",
     "output_type": "stream",
     "text": [
      "Epoch 22, Learning Rate: 0.00010, Epoch time: 15.71 seconds\n",
      "Loss: 4.501, Valid Loss: 4.5034, NMI: 0.4472, AMI: 0.0951, ARI: 0.0569, ACC: 0.3249, \n",
      "============================== EPOCH 23 ==============================\n"
     ]
    },
    {
     "name": "stderr",
     "output_type": "stream",
     "text": [
      "Training: 100%|██████████| 938/938 [00:14<00:00, 64.87it/s]\n",
      "Validation: 100%|██████████| 157/157 [00:01<00:00, 109.22it/s]\n"
     ]
    },
    {
     "name": "stdout",
     "output_type": "stream",
     "text": [
      "Epoch 23, Learning Rate: 0.00010, Epoch time: 15.91 seconds\n",
      "Loss: 4.497, Valid Loss: 4.4937, NMI: 0.4472, AMI: 0.0944, ARI: 0.0572, ACC: 0.3244, \n",
      "============================== EPOCH 24 ==============================\n"
     ]
    },
    {
     "name": "stderr",
     "output_type": "stream",
     "text": [
      "Training: 100%|██████████| 938/938 [00:14<00:00, 64.32it/s]\n",
      "Validation: 100%|██████████| 157/157 [00:01<00:00, 88.74it/s] \n"
     ]
    },
    {
     "name": "stdout",
     "output_type": "stream",
     "text": [
      "Epoch 24, Learning Rate: 0.00010, Epoch time: 16.36 seconds\n",
      "Loss: 4.501, Valid Loss: 4.4988, NMI: 0.4485, AMI: 0.0962, ARI: 0.0575, ACC: 0.3259, \n",
      "============================== EPOCH 25 ==============================\n"
     ]
    },
    {
     "name": "stderr",
     "output_type": "stream",
     "text": [
      "Training: 100%|██████████| 938/938 [00:15<00:00, 59.17it/s]\n",
      "Validation: 100%|██████████| 157/157 [00:01<00:00, 92.58it/s] \n"
     ]
    },
    {
     "name": "stdout",
     "output_type": "stream",
     "text": [
      "Epoch 25, Learning Rate: 0.00010, Epoch time: 17.56 seconds\n",
      "Loss: 4.493, Valid Loss: 4.4898, NMI: 0.4463, AMI: 0.0969, ARI: 0.0569, ACC: 0.3256, \n",
      "============================== EPOCH 26 ==============================\n"
     ]
    },
    {
     "name": "stderr",
     "output_type": "stream",
     "text": [
      "Training: 100%|██████████| 938/938 [00:14<00:00, 62.77it/s]\n",
      "Validation: 100%|██████████| 157/157 [00:01<00:00, 98.18it/s] \n"
     ]
    },
    {
     "name": "stdout",
     "output_type": "stream",
     "text": [
      "Epoch 26, Learning Rate: 0.00010, Epoch time: 16.55 seconds\n",
      "Loss: 4.490, Valid Loss: 4.4809, NMI: 0.4533, AMI: 0.1050, ARI: 0.0631, ACC: 0.3289, \n",
      "============================== EPOCH 27 ==============================\n"
     ]
    },
    {
     "name": "stderr",
     "output_type": "stream",
     "text": [
      "Training: 100%|██████████| 938/938 [00:15<00:00, 61.75it/s]\n",
      "Validation: 100%|██████████| 157/157 [00:01<00:00, 94.65it/s] \n"
     ]
    },
    {
     "name": "stdout",
     "output_type": "stream",
     "text": [
      "Epoch 27, Learning Rate: 0.00010, Epoch time: 16.86 seconds\n",
      "Loss: 4.486, Valid Loss: 4.4959, NMI: 0.4582, AMI: 0.0915, ARI: 0.0537, ACC: 0.3144, \n",
      "============================== EPOCH 28 ==============================\n"
     ]
    },
    {
     "name": "stderr",
     "output_type": "stream",
     "text": [
      "Training: 100%|██████████| 938/938 [00:15<00:00, 60.27it/s]\n",
      "Validation: 100%|██████████| 157/157 [00:01<00:00, 93.63it/s] \n"
     ]
    },
    {
     "name": "stdout",
     "output_type": "stream",
     "text": [
      "Epoch 28, Learning Rate: 0.00010, Epoch time: 17.25 seconds\n",
      "Loss: 4.491, Valid Loss: 4.4866, NMI: 0.4718, AMI: 0.0950, ARI: 0.0568, ACC: 0.3157, \n",
      "============================== EPOCH 29 ==============================\n"
     ]
    },
    {
     "name": "stderr",
     "output_type": "stream",
     "text": [
      "Training: 100%|██████████| 938/938 [00:16<00:00, 56.34it/s]\n",
      "Validation: 100%|██████████| 157/157 [00:01<00:00, 92.92it/s] \n"
     ]
    },
    {
     "name": "stdout",
     "output_type": "stream",
     "text": [
      "Epoch 29, Learning Rate: 0.00010, Epoch time: 18.35 seconds\n",
      "Loss: 4.476, Valid Loss: 4.4830, NMI: 0.4731, AMI: 0.0918, ARI: 0.0548, ACC: 0.3131, \n",
      "============================== EPOCH 30 ==============================\n"
     ]
    },
    {
     "name": "stderr",
     "output_type": "stream",
     "text": [
      "Training: 100%|██████████| 938/938 [00:15<00:00, 62.48it/s]\n",
      "Validation: 100%|██████████| 157/157 [00:01<00:00, 102.82it/s]\n"
     ]
    },
    {
     "name": "stdout",
     "output_type": "stream",
     "text": [
      "Epoch 30, Learning Rate: 0.00010, Epoch time: 16.55 seconds\n",
      "Loss: 4.482, Valid Loss: 4.4814, NMI: 0.4779, AMI: 0.0946, ARI: 0.0582, ACC: 0.3142, \n",
      "============================== EPOCH 31 ==============================\n"
     ]
    },
    {
     "name": "stderr",
     "output_type": "stream",
     "text": [
      "Training: 100%|██████████| 938/938 [00:15<00:00, 61.70it/s]\n",
      "Validation: 100%|██████████| 157/157 [00:01<00:00, 102.02it/s]\n"
     ]
    },
    {
     "name": "stdout",
     "output_type": "stream",
     "text": [
      "Epoch 31, Learning Rate: 0.00010, Epoch time: 16.75 seconds\n",
      "Loss: 4.486, Valid Loss: 4.4893, NMI: 0.4744, AMI: 0.0955, ARI: 0.0579, ACC: 0.3145, \n",
      "============================== EPOCH 32 ==============================\n"
     ]
    },
    {
     "name": "stderr",
     "output_type": "stream",
     "text": [
      "Training: 100%|██████████| 938/938 [00:15<00:00, 61.92it/s]\n",
      "Validation: 100%|██████████| 157/157 [00:01<00:00, 93.38it/s] \n"
     ]
    },
    {
     "name": "stdout",
     "output_type": "stream",
     "text": [
      "Epoch 32, Learning Rate: 0.00010, Epoch time: 16.84 seconds\n",
      "Loss: 4.472, Valid Loss: 4.4721, NMI: 0.4764, AMI: 0.0927, ARI: 0.0567, ACC: 0.3117, \n",
      "============================== EPOCH 33 ==============================\n"
     ]
    },
    {
     "name": "stderr",
     "output_type": "stream",
     "text": [
      "Training: 100%|██████████| 938/938 [00:15<00:00, 60.75it/s]\n",
      "Validation: 100%|██████████| 157/157 [00:01<00:00, 92.75it/s]\n"
     ]
    },
    {
     "name": "stdout",
     "output_type": "stream",
     "text": [
      "Epoch 33, Learning Rate: 0.00010, Epoch time: 17.14 seconds\n",
      "Loss: 4.477, Valid Loss: 4.4859, NMI: 0.4867, AMI: 0.1002, ARI: 0.0607, ACC: 0.3122, \n",
      "============================== EPOCH 34 ==============================\n"
     ]
    },
    {
     "name": "stderr",
     "output_type": "stream",
     "text": [
      "Training: 100%|██████████| 938/938 [00:15<00:00, 61.60it/s]\n",
      "Validation: 100%|██████████| 157/157 [00:01<00:00, 103.49it/s]\n"
     ]
    },
    {
     "name": "stdout",
     "output_type": "stream",
     "text": [
      "Epoch 34, Learning Rate: 0.00010, Epoch time: 16.75 seconds\n",
      "Loss: 4.478, Valid Loss: 4.4861, NMI: 0.4861, AMI: 0.0999, ARI: 0.0613, ACC: 0.3129, \n",
      "============================== EPOCH 35 ==============================\n"
     ]
    },
    {
     "name": "stderr",
     "output_type": "stream",
     "text": [
      "Training: 100%|██████████| 938/938 [00:15<00:00, 61.69it/s]\n",
      "Validation: 100%|██████████| 157/157 [00:01<00:00, 102.53it/s]\n"
     ]
    },
    {
     "name": "stdout",
     "output_type": "stream",
     "text": [
      "Epoch 35, Learning Rate: 0.00010, Epoch time: 16.74 seconds\n",
      "Loss: 4.472, Valid Loss: 4.4811, NMI: 0.4905, AMI: 0.0989, ARI: 0.0608, ACC: 0.3119, \n",
      "============================== EPOCH 36 ==============================\n"
     ]
    },
    {
     "name": "stderr",
     "output_type": "stream",
     "text": [
      "Training: 100%|██████████| 938/938 [00:16<00:00, 58.31it/s]\n",
      "Validation: 100%|██████████| 157/157 [00:01<00:00, 94.10it/s]\n"
     ]
    },
    {
     "name": "stdout",
     "output_type": "stream",
     "text": [
      "Epoch 36, Learning Rate: 0.00010, Epoch time: 17.77 seconds\n",
      "Loss: 4.470, Valid Loss: 4.4848, NMI: 0.4962, AMI: 0.1012, ARI: 0.0613, ACC: 0.3113, \n",
      "============================== EPOCH 37 ==============================\n"
     ]
    },
    {
     "name": "stderr",
     "output_type": "stream",
     "text": [
      "Training: 100%|██████████| 938/938 [00:15<00:00, 61.59it/s]\n",
      "Validation: 100%|██████████| 157/157 [00:01<00:00, 102.03it/s]\n"
     ]
    },
    {
     "name": "stdout",
     "output_type": "stream",
     "text": [
      "Epoch 37, Learning Rate: 0.00010, Epoch time: 16.78 seconds\n",
      "Loss: 4.468, Valid Loss: 4.4849, NMI: 0.4922, AMI: 0.0957, ARI: 0.0577, ACC: 0.3085, \n",
      "============================== EPOCH 38 ==============================\n"
     ]
    },
    {
     "name": "stderr",
     "output_type": "stream",
     "text": [
      "Training: 100%|██████████| 938/938 [00:15<00:00, 61.81it/s]\n",
      "Validation: 100%|██████████| 157/157 [00:01<00:00, 102.01it/s]\n"
     ]
    },
    {
     "name": "stdout",
     "output_type": "stream",
     "text": [
      "Epoch 38, Learning Rate: 0.00010, Epoch time: 16.72 seconds\n",
      "Loss: 4.461, Valid Loss: 4.4635, NMI: 0.4990, AMI: 0.1055, ARI: 0.0651, ACC: 0.3135, \n",
      "============================== EPOCH 39 ==============================\n"
     ]
    },
    {
     "name": "stderr",
     "output_type": "stream",
     "text": [
      "Training: 100%|██████████| 938/938 [00:15<00:00, 62.04it/s]\n",
      "Validation: 100%|██████████| 157/157 [00:01<00:00, 103.43it/s]\n"
     ]
    },
    {
     "name": "stdout",
     "output_type": "stream",
     "text": [
      "Epoch 39, Learning Rate: 0.00010, Epoch time: 16.64 seconds\n",
      "Loss: 4.469, Valid Loss: 4.4685, NMI: 0.4983, AMI: 0.1039, ARI: 0.0633, ACC: 0.3136, \n",
      "============================== EPOCH 40 ==============================\n"
     ]
    },
    {
     "name": "stderr",
     "output_type": "stream",
     "text": [
      "Training: 100%|██████████| 938/938 [00:15<00:00, 61.56it/s]\n",
      "Validation: 100%|██████████| 157/157 [00:01<00:00, 100.10it/s]\n"
     ]
    },
    {
     "name": "stdout",
     "output_type": "stream",
     "text": [
      "Epoch 40, Learning Rate: 0.00010, Epoch time: 16.81 seconds\n",
      "Loss: 4.460, Valid Loss: 4.4687, NMI: 0.4968, AMI: 0.1015, ARI: 0.0618, ACC: 0.3103, \n"
     ]
    },
    {
     "data": {
      "image/png": "[encoded data removed]",
      "text/plain": [
       "<Figure size 1300x600 with 2 Axes>"
      ]
     },
     "metadata": {},
     "output_type": "display_data"
    },
    {
     "name": "stdout",
     "output_type": "stream",
     "text": [
      "============================== EPOCH 41 ==============================\n"
     ]
    },
    {
     "name": "stderr",
     "output_type": "stream",
     "text": [
      "Training: 100%|██████████| 938/938 [00:15<00:00, 61.32it/s]\n",
      "Validation: 100%|██████████| 157/157 [00:01<00:00, 99.65it/s] \n"
     ]
    },
    {
     "name": "stdout",
     "output_type": "stream",
     "text": [
      "Epoch 41, Learning Rate: 0.00010, Epoch time: 16.88 seconds\n",
      "Loss: 4.468, Valid Loss: 4.4622, NMI: 0.4989, AMI: 0.1047, ARI: 0.0666, ACC: 0.3126, \n",
      "============================== EPOCH 42 ==============================\n"
     ]
    },
    {
     "name": "stderr",
     "output_type": "stream",
     "text": [
      "Training: 100%|██████████| 938/938 [00:15<00:00, 62.03it/s]\n",
      "Validation: 100%|██████████| 157/157 [00:01<00:00, 95.59it/s] \n"
     ]
    },
    {
     "name": "stdout",
     "output_type": "stream",
     "text": [
      "Epoch 42, Learning Rate: 0.00010, Epoch time: 16.77 seconds\n",
      "Loss: 4.460, Valid Loss: 4.4634, NMI: 0.4954, AMI: 0.0961, ARI: 0.0578, ACC: 0.3076, \n",
      "============================== EPOCH 43 ==============================\n"
     ]
    },
    {
     "name": "stderr",
     "output_type": "stream",
     "text": [
      "Training: 100%|██████████| 938/938 [00:15<00:00, 60.94it/s]\n",
      "Validation: 100%|██████████| 157/157 [00:01<00:00, 94.89it/s] \n"
     ]
    },
    {
     "name": "stdout",
     "output_type": "stream",
     "text": [
      "Epoch 43, Learning Rate: 0.00010, Epoch time: 17.06 seconds\n",
      "Loss: 4.463, Valid Loss: 4.4825, NMI: 0.5011, AMI: 0.1075, ARI: 0.0657, ACC: 0.3145, \n",
      "============================== EPOCH 44 ==============================\n"
     ]
    },
    {
     "name": "stderr",
     "output_type": "stream",
     "text": [
      "Training: 100%|██████████| 938/938 [00:15<00:00, 61.38it/s]\n",
      "Validation: 100%|██████████| 157/157 [00:01<00:00, 102.32it/s]\n"
     ]
    },
    {
     "name": "stdout",
     "output_type": "stream",
     "text": [
      "Epoch 44, Learning Rate: 0.00010, Epoch time: 16.83 seconds\n",
      "Loss: 4.461, Valid Loss: 4.4581, NMI: 0.5015, AMI: 0.1058, ARI: 0.0640, ACC: 0.3155, \n",
      "============================== EPOCH 45 ==============================\n"
     ]
    },
    {
     "name": "stderr",
     "output_type": "stream",
     "text": [
      "Training: 100%|██████████| 938/938 [00:15<00:00, 61.73it/s]\n",
      "Validation: 100%|██████████| 157/157 [00:01<00:00, 103.31it/s]\n"
     ]
    },
    {
     "name": "stdout",
     "output_type": "stream",
     "text": [
      "Epoch 45, Learning Rate: 0.00010, Epoch time: 16.72 seconds\n",
      "Loss: 4.457, Valid Loss: 4.4494, NMI: 0.5006, AMI: 0.1062, ARI: 0.0639, ACC: 0.3111, \n",
      "============================== EPOCH 46 ==============================\n"
     ]
    },
    {
     "name": "stderr",
     "output_type": "stream",
     "text": [
      "Training: 100%|██████████| 938/938 [00:15<00:00, 59.98it/s]\n",
      "Validation: 100%|██████████| 157/157 [00:01<00:00, 90.66it/s] \n"
     ]
    },
    {
     "name": "stdout",
     "output_type": "stream",
     "text": [
      "Epoch 46, Learning Rate: 0.00010, Epoch time: 17.38 seconds\n",
      "Loss: 4.452, Valid Loss: 4.4705, NMI: 0.5010, AMI: 0.1054, ARI: 0.0638, ACC: 0.3126, \n",
      "============================== EPOCH 47 ==============================\n"
     ]
    },
    {
     "name": "stderr",
     "output_type": "stream",
     "text": [
      "Training: 100%|██████████| 938/938 [00:15<00:00, 62.08it/s]\n",
      "Validation: 100%|██████████| 157/157 [00:01<00:00, 101.26it/s]\n"
     ]
    },
    {
     "name": "stdout",
     "output_type": "stream",
     "text": [
      "Epoch 47, Learning Rate: 0.00010, Epoch time: 16.67 seconds\n",
      "Loss: 4.460, Valid Loss: 4.4602, NMI: 0.5043, AMI: 0.1048, ARI: 0.0659, ACC: 0.3123, \n",
      "============================== EPOCH 48 ==============================\n"
     ]
    },
    {
     "name": "stderr",
     "output_type": "stream",
     "text": [
      "Training: 100%|██████████| 938/938 [00:14<00:00, 63.78it/s]\n",
      "Validation: 100%|██████████| 157/157 [00:01<00:00, 90.74it/s]\n"
     ]
    },
    {
     "name": "stdout",
     "output_type": "stream",
     "text": [
      "Epoch 48, Learning Rate: 0.00010, Epoch time: 16.45 seconds\n",
      "Loss: 4.458, Valid Loss: 4.4549, NMI: 0.5085, AMI: 0.1103, ARI: 0.0679, ACC: 0.3134, \n",
      "============================== EPOCH 49 ==============================\n"
     ]
    },
    {
     "name": "stderr",
     "output_type": "stream",
     "text": [
      "Training: 100%|██████████| 938/938 [00:14<00:00, 65.05it/s]\n",
      "Validation: 100%|██████████| 157/157 [00:01<00:00, 107.74it/s]\n"
     ]
    },
    {
     "name": "stdout",
     "output_type": "stream",
     "text": [
      "Epoch 49, Learning Rate: 0.00010, Epoch time: 15.89 seconds\n",
      "Loss: 4.451, Valid Loss: 4.4598, NMI: 0.5079, AMI: 0.1106, ARI: 0.0665, ACC: 0.3128, \n",
      "============================== EPOCH 50 ==============================\n"
     ]
    },
    {
     "name": "stderr",
     "output_type": "stream",
     "text": [
      "Training: 100%|██████████| 938/938 [00:14<00:00, 66.50it/s]\n",
      "Validation: 100%|██████████| 157/157 [00:01<00:00, 107.02it/s]"
     ]
    },
    {
     "name": "stdout",
     "output_type": "stream",
     "text": [
      "Epoch 50, Learning Rate: 0.00010, Epoch time: 15.58 seconds\n",
      "Loss: 4.451, Valid Loss: 4.4513, NMI: 0.5072, AMI: 0.1095, ARI: 0.0664, ACC: 0.3115, \n",
      "\n",
      "<<<<<<<<<<<<<<<<<<<<<<<<<< FINISHED 916.80s >>>>>>>>>>>>>>>>>>>>>>>>>>\n"
     ]
    },
    {
     "name": "stderr",
     "output_type": "stream",
     "text": [
      "\n"
     ]
    },
    {
     "data": {
      "text/plain": [
       "(4.451293, 0.3115047770700637)"
      ]
     },
     "execution_count": 20,
     "metadata": {},
     "output_type": "execute_result"
    }
   ],
   "source": [
    "training_run()"
   ]
  },
  {
   "cell_type": "markdown",
   "metadata": {},
   "source": [
    "## Blobs"
   ]
  },
  {
   "cell_type": "code",
   "execution_count": null,
   "metadata": {},
   "outputs": [],
   "source": [
    "# Create config variable\n",
    "config = {\n",
    "    # Data Parameter\n",
    "    'DATASET' : tf.keras.datasets.cifar100,\n",
    "    'IMAGE_SHAPE' : (32,32,3),\n",
    "    'IMAGE_SIZE' : 32, \n",
    "    'BATCH_SIZE' : 64,\n",
    "    'CLASS_COUNT' : 100,\n",
    "    'N_AUG' : 2,\n",
    "    # Training parameters\n",
    "    'LR_SCHED' : \"WarmUpCosineDecay\",\n",
    "    'OPTIM' : tf.keras.optimizers.Adam(),\n",
    "    'EPOCHS' : 100,\n",
    "    'MAX_LR' : 0.005,\n",
    "}"
   ]
  }
 ],
 "metadata": {
  "kernelspec": {
   "display_name": "Python 3.9.15 ('Advance_dl_project')",
   "language": "python",
   "name": "python3"
  },
  "language_info": {
   "codemirror_mode": {
    "name": "ipython",
    "version": 3
   },
   "file_extension": ".py",
   "mimetype": "text/x-python",
   "name": "python",
   "nbconvert_exporter": "python",
   "pygments_lexer": "ipython3",
   "version": "3.9.15"
  },
  "orig_nbformat": 4,
  "vscode": {
   "interpreter": {
    "hash": "a847396d34e138e52a2ace068c5edecdcd578a605f63ec59d1b6e247fa4990ae"
   }
  }
 },
 "nbformat": 4,
 "nbformat_minor": 2
}
