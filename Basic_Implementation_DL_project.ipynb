{
 "cells": [
  {
   "cell_type": "code",
   "execution_count": 5,
   "id": "91e99ddc",
   "metadata": {},
   "outputs": [],
   "source": [
    "import sklearn\n",
    "import tensorflow as tf\n",
    "import tensorflow.keras as K\n",
    "import matplotlib.pyplot as plt\n",
    "import numpy as np\n",
    "\n",
    "from sklearn.datasets import make_blobs"
   ]
  },
  {
   "cell_type": "code",
   "execution_count": 23,
   "id": "4b5eb115",
   "metadata": {},
   "outputs": [],
   "source": [
    "data, label = make_blobs(100, n_features=2, centers=3)\n",
    "colormap = np.array(['r', 'g', 'b'])\n"
   ]
  },
  {
   "cell_type": "code",
   "execution_count": 24,
   "id": "648acd71",
   "metadata": {},
   "outputs": [
    {
     "data": {
      "text/plain": [
       "array([0, 1, 2, 2, 2, 0, 1, 2, 0, 1, 2, 2, 0, 2, 0, 0, 1, 2, 1, 1, 1, 0,\n",
       "       0, 1, 1, 1, 0, 0, 2, 0, 0, 0, 2, 0, 0, 0, 0, 0, 0, 1, 1, 1, 0, 2,\n",
       "       2, 1, 0, 1, 2, 0, 2, 0, 2, 1, 2, 0, 2, 0, 2, 0, 1, 1, 2, 1, 2, 0,\n",
       "       1, 0, 2, 1, 1, 1, 2, 1, 2, 1, 0, 0, 2, 2, 1, 2, 1, 1, 2, 2, 0, 0,\n",
       "       0, 1, 2, 2, 2, 1, 1, 2, 1, 2, 1, 0])"
      ]
     },
     "execution_count": 24,
     "metadata": {},
     "output_type": "execute_result"
    }
   ],
   "source": [
    "label"
   ]
  },
  {
   "cell_type": "code",
   "execution_count": 26,
   "id": "edca9317",
   "metadata": {},
   "outputs": [
    {
     "data": {
      "text/plain": [
       "<matplotlib.collections.PathCollection at 0x28f0d131ac0>"
      ]
     },
     "execution_count": 26,
     "metadata": {},
     "output_type": "execute_result"
    },
    {
     "data": {
      "image/png": "[encoded data removed]",
      "text/plain": [
       "<Figure size 432x288 with 1 Axes>"
      ]
     },
     "metadata": {
      "needs_background": "light"
     },
     "output_type": "display_data"
    }
   ],
   "source": [
    "plt.scatter(data[:,0],data[:,1], c=colormap[label])"
   ]
  },
  {
   "cell_type": "code",
   "execution_count": null,
   "id": "ce20c242",
   "metadata": {},
   "outputs": [],
   "source": [
    "# data peterbations\n",
    "def make_preturb_data(data, noise_peterb=10**-4):\n",
    "    preturb_data = data+np.random.normal(scale=noise_peterb,size=data.shape)\n",
    "    return preturb_data\n",
    "\n",
    "#to one_hot\n",
    "def convert_to_one_hot(data):\n",
    "    # assuming there is label from all classes\n",
    "    one_hot = np.zeros((data.size, data.max() + 1))\n",
    "    one_hot[np.arange(data.size), data] = 1\n",
    "    return one_hot"
   ]
  },
  {
   "cell_type": "code",
   "execution_count": null,
   "id": "063c3cb9",
   "metadata": {},
   "outputs": [],
   "source": [
    "# modeling\n",
    "\n",
    "#one hidden layer model\n",
    "# in layer 2 neurons\n",
    "# hidden layer 2 neurons\n",
    "# out layer 3 neurons, softmaxed"
   ]
  }
 ],
 "metadata": {
  "kernelspec": {
   "display_name": "Python 3 (ipykernel)",
   "language": "python",
   "name": "python3"
  },
  "language_info": {
   "codemirror_mode": {
    "name": "ipython",
    "version": 3
   },
   "file_extension": ".py",
   "mimetype": "text/x-python",
   "name": "python",
   "nbconvert_exporter": "python",
   "pygments_lexer": "ipython3",
   "version": "3.9.7"
  }
 },
 "nbformat": 4,
 "nbformat_minor": 5
}
