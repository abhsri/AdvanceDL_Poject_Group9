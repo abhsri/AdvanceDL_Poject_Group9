{
 "cells": [
  {
   "cell_type": "markdown",
   "metadata": {
    "id": "pmIBU1QJ1aUi"
   },
   "source": [
    "# DD2412 Final Project - Basic Implementation MNIST\n"
   ]
  },
  {
   "cell_type": "code",
   "execution_count": 1,
   "metadata": {},
   "outputs": [
    {
     "name": "stdout",
     "output_type": "stream",
     "text": [
      "Unable to connect to google drive\n"
     ]
    }
   ],
   "source": [
    "try:\n",
    "    from google.colab import drive\n",
    "    drive.mount('/content/drive')\n",
    "    %cd drive/MyDrive/Github/AdvanceDL_Poject_Group9/\n",
    "except:\n",
    "    print(\"Unable to connect to google drive\")"
   ]
  },
  {
   "cell_type": "code",
   "execution_count": 2,
   "metadata": {
    "id": "tyiHQJ320vkc"
   },
   "outputs": [],
   "source": [
    "# Import general packages\n",
    "import os\n",
    "import copy\n",
    "import matplotlib.pyplot as plt\n",
    "import numpy as np\n",
    "\n",
    "# Variables\n",
    "%matplotlib inline"
   ]
  },
  {
   "cell_type": "code",
   "execution_count": 3,
   "metadata": {
    "colab": {
     "base_uri": "https://localhost:8080/"
    },
    "executionInfo": {
     "elapsed": 17274,
     "status": "ok",
     "timestamp": 1670251551032,
     "user": {
      "displayName": "Johan Ahnfalk",
      "userId": "16853987390072953697"
     },
     "user_tz": -60
    },
    "id": "XKLkZkbtWy9s",
    "outputId": "7fcb09df-1ef9-492d-ceb7-24a3f843f5e9"
   },
   "outputs": [
    {
     "name": "stderr",
     "output_type": "stream",
     "text": [
      "/usr/local/lib/python3.8/dist-packages/tensorflow_addons/utils/ensure_tf_install.py:53: UserWarning: Tensorflow Addons supports using Python ops for all Tensorflow versions above or equal to 2.8.0 and strictly below 2.11.0 (nightly versions are not supported). \n",
      " The versions of TensorFlow you are currently using is 2.11.0 and is not supported. \n",
      "Some things might work, some things might not.\n",
      "If you were to encounter a bug, do not file an issue.\n",
      "If you want to make sure you're using a tested and supported configuration, either change the TensorFlow version or the TensorFlow Addons's version. \n",
      "You can find the compatibility matrix in TensorFlow Addon's readme:\n",
      "https://github.com/tensorflow/addons\n",
      "  warnings.warn(\n"
     ]
    },
    {
     "name": "stdout",
     "output_type": "stream",
     "text": [
      "TensorFlow version: 2.11.0\n",
      "TensorFlow Addon version: 0.18.0\n"
     ]
    }
   ],
   "source": [
    "# Tensorflow versions\n",
    "import tensorflow as tf\n",
    "\n",
    "# Handle not pre-installed packages \n",
    "try: \n",
    "    import tensorflow_addons as tfa\n",
    "except:\n",
    "    os.system(\"pip install tensorflow-addons\")\n",
    "    import tensorflow_addons as tfa\n",
    "\n",
    "try: \n",
    "    import optuna\n",
    "except:\n",
    "    os.system(\"pip install optuna\")\n",
    "    import optuna\n",
    "\n",
    "# Print TensorFlow versions\n",
    "print(\"TensorFlow version:\", tf.__version__)\n",
    "print(\"TensorFlow Addon version:\", tfa.__version__)\n",
    "\n",
    "from tensorflow.keras.applications.resnet50 import ResNet50, preprocess_input"
   ]
  },
  {
   "cell_type": "code",
   "execution_count": 4,
   "metadata": {},
   "outputs": [],
   "source": [
    "import self_classifier as sc"
   ]
  },
  {
   "cell_type": "markdown",
   "metadata": {
    "id": "y7VrntKvP9OE"
   },
   "source": [
    "## Config"
   ]
  },
  {
   "cell_type": "code",
   "execution_count": 5,
   "metadata": {
    "id": "2J8HRT9XP6ur"
   },
   "outputs": [],
   "source": [
    "# Create config variable\n",
    "config = {\n",
    "    # Data Parameter\n",
    "    'DATASET' : tf.keras.datasets.cifar100,\n",
    "    'IMAGE_SHAPE' : (32,32,3),\n",
    "    'IMAGE_SIZE' : 32, \n",
    "    'BATCH_SIZE' : 64,\n",
    "    'CLASS_COUNT' : 100,\n",
    "    'N_AUG' : 2,\n",
    "    # Training parameters\n",
    "    'LR_SCHED' : \"WarmUpCosineDecay\",\n",
    "    'OPTIM' : tf.keras.optimizers.Adam(),\n",
    "    'EPOCHS' : 100,\n",
    "    'MAX_LR' : 0.005,\n",
    "}"
   ]
  },
  {
   "cell_type": "markdown",
   "metadata": {
    "id": "DUy_GO0EMeFu"
   },
   "source": [
    "## Data Loading and Augmentation"
   ]
  },
  {
   "cell_type": "code",
   "execution_count": 6,
   "metadata": {
    "id": "EVn9RaA2ikXp"
   },
   "outputs": [
    {
     "name": "stdout",
     "output_type": "stream",
     "text": [
      "Generating new test augmentation dataset...\n",
      " => augment 1 complete\n",
      " => augment 2 complete\n",
      "Saving new train dataset...[done]\n"
     ]
    }
   ],
   "source": [
    "train_loader = sc.DataLoader(\n",
    "    in_path=\"datasets/cifar100/ResNet50_{}_{}/train\".format(config['BATCH_SIZE'], config['N_AUG']), mkdir=True)\n",
    "train_ds = train_loader.get_train(config=config, pre_process=preprocess_input)"
   ]
  },
  {
   "cell_type": "code",
   "execution_count": 7,
   "metadata": {
    "colab": {
     "base_uri": "https://localhost:8080/"
    },
    "executionInfo": {
     "elapsed": 6549,
     "status": "ok",
     "timestamp": 1670251589900,
     "user": {
      "displayName": "Johan Ahnfalk",
      "userId": "16853987390072953697"
     },
     "user_tz": -60
    },
    "id": "DEVew4qfjbxg",
    "outputId": "0ea84f16-1120-49de-c2d1-549e73efa82d"
   },
   "outputs": [
    {
     "name": "stdout",
     "output_type": "stream",
     "text": [
      "Generating new test augmentation dataset...\n",
      " => augment 1 complete\n",
      " => augment 2 complete\n",
      "Saving new test dataset...[done]\n"
     ]
    }
   ],
   "source": [
    "test_loader = sc.DataLoader(\n",
    "        in_path=\"datasets/cifar100/ResNet50_{}_{}/test\".format(config['BATCH_SIZE'], config['N_AUG']), mkdir=True)\n",
    "test_ds = test_loader.get_test(config=config, pre_process=preprocess_input)"
   ]
  },
  {
   "cell_type": "code",
   "execution_count": 8,
   "metadata": {
    "scrolled": true
   },
   "outputs": [
    {
     "data": {
      "image/png": "[encoded data removed]",
      "text/plain": [
       "<Figure size 1300x600 with 1 Axes>"
      ]
     },
     "metadata": {},
     "output_type": "display_data"
    },
    {
     "data": {
      "text/plain": [
       "(100,\n",
       " array([ 0.,  1.,  2.,  3.,  4.,  5.,  6.,  7.,  8.,  9., 10., 11., 12.,\n",
       "        13., 14., 15., 16., 17., 18., 19., 20., 21., 22., 23., 24., 25.,\n",
       "        26., 27., 28., 29., 30., 31., 32., 33., 34., 35., 36., 37., 38.,\n",
       "        39., 40., 41., 42., 43., 44., 45., 46., 47., 48., 49., 50., 51.,\n",
       "        52., 53., 54., 55., 56., 57., 58., 59., 60., 61., 62., 63., 64.,\n",
       "        65., 66., 67., 68., 69., 70., 71., 72., 73., 74., 75., 76., 77.,\n",
       "        78., 79., 80., 81., 82., 83., 84., 85., 86., 87., 88., 89., 90.,\n",
       "        91., 92., 93., 94., 95., 96., 97., 98., 99.]),\n",
       " array([100, 100, 100, 100, 100, 100, 100, 100, 100, 100, 100, 100, 100,\n",
       "        100, 100, 100, 100, 100, 100, 100, 100, 100, 100, 100, 100, 100,\n",
       "        100, 100, 100, 100, 100, 100, 100, 100, 100, 100, 100, 100, 100,\n",
       "        100, 100, 100, 100, 100, 100, 100, 100, 100, 100, 100, 100, 100,\n",
       "        100, 100, 100, 100, 100, 100, 100, 100, 100, 100, 100, 100, 100,\n",
       "        100, 100, 100, 100, 100, 100, 100, 100, 100, 100, 100, 100, 100,\n",
       "        100, 100, 100, 100, 100, 100, 100, 100, 100, 100, 100, 100, 100,\n",
       "        100, 100, 100, 100, 100, 100, 100, 100, 100]))"
      ]
     },
     "execution_count": 8,
     "metadata": {},
     "output_type": "execute_result"
    }
   ],
   "source": [
    "true_labels = np.array([])\n",
    "for images in test_ds:\n",
    "    true_labels = np.concatenate((true_labels, images[-1].numpy().reshape(-1)))\n",
    "\n",
    "sc.class_histogram(true_labels)"
   ]
  },
  {
   "cell_type": "code",
   "execution_count": 9,
   "metadata": {},
   "outputs": [],
   "source": [
    "def check_augmentation(ds, columns=3):\n",
    "    # Get random samples from test set\n",
    "    \n",
    "    # Training loop\n",
    "    for images in train_ds:\n",
    "        break\n",
    "        \n",
    "    aug_cnt = len(images)\n",
    "    img_cnt = images[0].shape[0]\n",
    "    samples = np.random.randint(img_cnt, size=columns)\n",
    "    print(aug_cnt)\n",
    "    print(img_cnt)\n",
    "    print(len(samples))\n",
    "    \n",
    "    plt.figure(figsize=(10*aug_cnt, 10*columns))\n",
    "    for i in range(aug_cnt):\n",
    "        for j in range(columns):\n",
    "            plt.subplot(aug_cnt, columns, (i*columns+j+1))\n",
    "            imgplot = plt.imshow(images[i][samples[j], :, :, :])\n",
    "\n"
   ]
  },
  {
   "cell_type": "code",
   "execution_count": 10,
   "metadata": {
    "scrolled": false
   },
   "outputs": [
    {
     "name": "stderr",
     "output_type": "stream",
     "text": [
      "Clipping input data to the valid range for imshow with RGB data ([0..1] for floats or [0..255] for integers).\n",
      "Clipping input data to the valid range for imshow with RGB data ([0..1] for floats or [0..255] for integers).\n",
      "Clipping input data to the valid range for imshow with RGB data ([0..1] for floats or [0..255] for integers).\n",
      "Clipping input data to the valid range for imshow with RGB data ([0..1] for floats or [0..255] for integers).\n",
      "Clipping input data to the valid range for imshow with RGB data ([0..1] for floats or [0..255] for integers).\n",
      "Clipping input data to the valid range for imshow with RGB data ([0..1] for floats or [0..255] for integers).\n",
      "Clipping input data to the valid range for imshow with RGB data ([0..1] for floats or [0..255] for integers).\n",
      "Clipping input data to the valid range for imshow with RGB data ([0..1] for floats or [0..255] for integers).\n",
      "Clipping input data to the valid range for imshow with RGB data ([0..1] for floats or [0..255] for integers).\n"
     ]
    },
    {
     "name": "stdout",
     "output_type": "stream",
     "text": [
      "3\n",
      "64\n",
      "3\n"
     ]
    },
    {
     "data": {
      "image/png": "[encoded data removed]",
      "text/plain": [
       "<Figure size 3000x3000 with 9 Axes>"
      ]
     },
     "metadata": {},
     "output_type": "display_data"
    }
   ],
   "source": [
    "check_augmentation(train_ds)"
   ]
  },
  {
   "cell_type": "code",
   "execution_count": 11,
   "metadata": {},
   "outputs": [],
   "source": [
    "import tensorflow as tf\n",
    "\n",
    "from tensorflow.keras.layers import Dense, Dropout, Flatten, BatchNormalization,InputLayer\n",
    "from tensorflow.keras.layers import UpSampling2D, GlobalAveragePooling2D\n",
    "from tensorflow.keras.activations import softmax\n",
    "from tensorflow.keras import Model, Sequential\n",
    "\n",
    "\n",
    "class PretrainedModel(sc.CustomModel):\n",
    "    def __init__(self, pre_model, activation, input_shape, output_shape):\n",
    "        super(PretrainedModel, self).__init__()\n",
    "\n",
    "        if pre_model == \"ResNet50\":\n",
    "            base_model = tf.keras.applications.resnet50.ResNet50(\n",
    "                weights='imagenet', include_top=False,\n",
    "                input_shape=(224,224,3))\n",
    "\n",
    "        elif pre_model == \"EfficientNetB0\":\n",
    "            base_model = tf.keras.applications.efficientnet.EfficientNetB0(\n",
    "                weights='imagenet', include_top=False,\n",
    "                input_shape=input_shape)\n",
    "\n",
    "        elif pre_model == \"EfficientNetB1\":\n",
    "            base_model = tf.keras.applications.efficientnet.EfficientNetB1(\n",
    "                weights='imagenet', include_top=False,\n",
    "                input_shape=input_shape)\n",
    "\n",
    "        elif pre_model == \"MobileNet\":\n",
    "            base_model = tf.keras.applications.mobilenet.MobileNet(\n",
    "                weights='imagenet', include_top=False,\n",
    "                input_shape=input_shape)\n",
    "\n",
    "        for layer in base_model.layers:\n",
    "            if isinstance(layer, BatchNormalization):\n",
    "                layer.trainable = True\n",
    "            else:\n",
    "                layer.trainable = False\n",
    "\n",
    "        # Output layer\n",
    "        model = Sequential()\n",
    "        model.add(UpSampling2D(size=(7,7)))\n",
    "\n",
    "        model.add(base_model)\n",
    "        \n",
    "        model.add(GlobalAveragePooling2D())\n",
    "        model.add(Dense(256, activation=activation))\n",
    "        model.add(Dropout(.25))\n",
    "        model.add(BatchNormalization())\n",
    "        model.add(Dense(output_shape, activation='softmax'))\n",
    "\n",
    "        self.model = model\n"
   ]
  },
  {
   "cell_type": "markdown",
   "metadata": {
    "id": "k4-a0COt8F7X"
   },
   "source": [
    "## Train Network"
   ]
  },
  {
   "cell_type": "code",
   "execution_count": 12,
   "metadata": {
    "id": "VCEZzaTNu5Fj"
   },
   "outputs": [],
   "source": [
    "def training_run():\n",
    "    # Create a data recorder and fit the data\n",
    "    recorder = sc.DataRecorder()\n",
    "\n",
    "    # Instansiate loss function\n",
    "    loss_object_test = tf.keras.losses.SparseCategoricalCrossentropy(from_logits=True)\n",
    "    # Instansiate SelfClassifier loss function\n",
    "    loss_object_train = sc.SelfClassifier(n_batch=config['BATCH_SIZE'], \n",
    "                        n_class=config['CLASS_COUNT'], t_r=0.1, t_c=0.05)\n",
    "    # Instansiate optimizer \n",
    "    optimizer = config['OPTIM']\n",
    "    decay_steps = len(train_ds)*config['EPOCHS']\n",
    "    optimizer.learning_rate = tf.keras.optimizers.schedules.CosineDecay(\n",
    "        0.005, decay_steps, alpha=0.0, name=None\n",
    "    )\n",
    "\n",
    "    #optimizer.learning_rate = sc.lr_schedular(config, config['LR_SCHED'],len(train_ds))\n",
    "    \n",
    "    # Select backbone \n",
    "    backbone = \"ResNet50\"\n",
    "    activation = \"selu\"\n",
    "\n",
    "    # Create an instance of the model\n",
    "    model = PretrainedModel(pre_model=backbone,\n",
    "                             activation=activation,\n",
    "                             input_shape=config['IMAGE_SHAPE'],\n",
    "                             output_shape=config['CLASS_COUNT'])\n",
    "\n",
    "    learner = sc.UnderSupervisedLearner(model=model, optimizer=optimizer,\n",
    "                                 loss_object_train=loss_object_train,\n",
    "                                 loss_object_test=loss_object_test,\n",
    "                                 recorder=recorder)\n",
    "    # Train the model\n",
    "    return learner.fit(config=config, train_ds=train_ds,\n",
    "                       test_ds=test_ds, plot_every=5)"
   ]
  },
  {
   "cell_type": "code",
   "execution_count": 13,
   "metadata": {
    "colab": {
     "base_uri": "https://localhost:8080/",
     "height": 1000
    },
    "executionInfo": {
     "elapsed": 989614,
     "status": "error",
     "timestamp": 1670252601665,
     "user": {
      "displayName": "Johan Ahnfalk",
      "userId": "16853987390072953697"
     },
     "user_tz": -60
    },
    "id": "9p-vg6QfvV1F",
    "outputId": "c9411244-553d-4ddd-b6ec-53ea601702ad",
    "scrolled": false
   },
   "outputs": [
    {
     "name": "stdout",
     "output_type": "stream",
     "text": [
      "============================== EPOCH 1 ==============================\n"
     ]
    },
    {
     "name": "stderr",
     "output_type": "stream",
     "text": [
      "\r",
      "Training:   0%|          | 0/782 [00:00<?, ?it/s]"
     ]
    },
    {
     "name": "stdout",
     "output_type": "stream",
     "text": [
      "WARNING:tensorflow:From /usr/local/lib/python3.8/dist-packages/tensorflow/python/autograph/pyct/static_analysis/liveness.py:83: Analyzer.lamba_check (from tensorflow.python.autograph.pyct.static_analysis.liveness) is deprecated and will be removed after 2023-09-23.\n",
      "Instructions for updating:\n",
      "Lambda fuctions will be no more assumed to be used in the statement where they are used, or at least in the same block. https://github.com/tensorflow/tensorflow/issues/56089\n"
     ]
    },
    {
     "name": "stderr",
     "output_type": "stream",
     "text": [
      "Training:   0%|          | 0/782 [00:37<?, ?it/s]\n"
     ]
    },
    {
     "ename": "ResourceExhaustedError",
     "evalue": "Graph execution error:\n\nDetected at node 'pretrained_model/sequential/resnet50/conv1_conv/Conv2D_1' defined at (most recent call last):\n    File \"/usr/lib/python3.8/runpy.py\", line 194, in _run_module_as_main\n      return _run_code(code, main_globals, None,\n    File \"/usr/lib/python3.8/runpy.py\", line 87, in _run_code\n      exec(code, run_globals)\n    File \"/usr/local/lib/python3.8/dist-packages/ipykernel_launcher.py\", line 16, in <module>\n      app.launch_new_instance()\n    File \"/usr/local/lib/python3.8/dist-packages/traitlets/config/application.py\", line 982, in launch_instance\n      app.start()\n    File \"/usr/local/lib/python3.8/dist-packages/ipykernel/kernelapp.py\", line 505, in start\n      self.io_loop.start()\n    File \"/usr/local/lib/python3.8/dist-packages/tornado/platform/asyncio.py\", line 215, in start\n      self.asyncio_loop.run_forever()\n    File \"/usr/lib/python3.8/asyncio/base_events.py\", line 570, in run_forever\n      self._run_once()\n    File \"/usr/lib/python3.8/asyncio/base_events.py\", line 1859, in _run_once\n      handle._run()\n    File \"/usr/lib/python3.8/asyncio/events.py\", line 81, in _run\n      self._context.run(self._callback, *self._args)\n    File \"/usr/local/lib/python3.8/dist-packages/tornado/ioloop.py\", line 687, in <lambda>\n      lambda f: self._run_callback(functools.partial(callback, future))\n    File \"/usr/local/lib/python3.8/dist-packages/tornado/ioloop.py\", line 740, in _run_callback\n      ret = callback()\n    File \"/usr/local/lib/python3.8/dist-packages/tornado/gen.py\", line 821, in inner\n      self.ctx_run(self.run)\n    File \"/usr/local/lib/python3.8/dist-packages/tornado/gen.py\", line 782, in run\n      yielded = self.gen.send(value)\n    File \"/usr/local/lib/python3.8/dist-packages/ipykernel/kernelbase.py\", line 378, in dispatch_queue\n      yield self.process_one()\n    File \"/usr/local/lib/python3.8/dist-packages/tornado/gen.py\", line 250, in wrapper\n      runner = Runner(ctx_run, result, future, yielded)\n    File \"/usr/local/lib/python3.8/dist-packages/tornado/gen.py\", line 748, in __init__\n      self.ctx_run(self.run)\n    File \"/usr/local/lib/python3.8/dist-packages/tornado/gen.py\", line 782, in run\n      yielded = self.gen.send(value)\n    File \"/usr/local/lib/python3.8/dist-packages/ipykernel/kernelbase.py\", line 365, in process_one\n      yield gen.maybe_future(dispatch(*args))\n    File \"/usr/local/lib/python3.8/dist-packages/tornado/gen.py\", line 234, in wrapper\n      yielded = ctx_run(next, result)\n    File \"/usr/local/lib/python3.8/dist-packages/ipykernel/kernelbase.py\", line 272, in dispatch_shell\n      yield gen.maybe_future(handler(stream, idents, msg))\n    File \"/usr/local/lib/python3.8/dist-packages/tornado/gen.py\", line 234, in wrapper\n      yielded = ctx_run(next, result)\n    File \"/usr/local/lib/python3.8/dist-packages/ipykernel/kernelbase.py\", line 540, in execute_request\n      self.do_execute(\n    File \"/usr/local/lib/python3.8/dist-packages/tornado/gen.py\", line 234, in wrapper\n      yielded = ctx_run(next, result)\n    File \"/usr/local/lib/python3.8/dist-packages/ipykernel/ipkernel.py\", line 294, in do_execute\n      res = shell.run_cell(code, store_history=store_history, silent=silent)\n    File \"/usr/local/lib/python3.8/dist-packages/ipykernel/zmqshell.py\", line 536, in run_cell\n      return super(ZMQInteractiveShell, self).run_cell(*args, **kwargs)\n    File \"/usr/local/lib/python3.8/dist-packages/IPython/core/interactiveshell.py\", line 2940, in run_cell\n      result = self._run_cell(\n    File \"/usr/local/lib/python3.8/dist-packages/IPython/core/interactiveshell.py\", line 2995, in _run_cell\n      return runner(coro)\n    File \"/usr/local/lib/python3.8/dist-packages/IPython/core/async_helpers.py\", line 129, in _pseudo_sync_runner\n      coro.send(None)\n    File \"/usr/local/lib/python3.8/dist-packages/IPython/core/interactiveshell.py\", line 3194, in run_cell_async\n      has_raised = await self.run_ast_nodes(code_ast.body, cell_name,\n    File \"/usr/local/lib/python3.8/dist-packages/IPython/core/interactiveshell.py\", line 3373, in run_ast_nodes\n      if await self.run_code(code, result, async_=asy):\n    File \"/usr/local/lib/python3.8/dist-packages/IPython/core/interactiveshell.py\", line 3433, in run_code\n      exec(code_obj, self.user_global_ns, self.user_ns)\n    File \"<ipython-input-13-e8f6010ec167>\", line 1, in <module>\n      training_run()\n    File \"<ipython-input-12-df382f9f6dc4>\", line 34, in training_run\n      return learner.fit(config=config, train_ds=train_ds,\n    File \"/tf/own/AdvanceDL_Poject_Group9/self_classifier/learn.py\", line 101, in fit\n      loss = self.train_step(a1, a2)\n    File \"/tf/own/AdvanceDL_Poject_Group9/self_classifier/learn.py\", line 48, in train_step\n      s2 = self.model(a2, training=True)\n    File \"/usr/local/lib/python3.8/dist-packages/keras/utils/traceback_utils.py\", line 65, in error_handler\n      return fn(*args, **kwargs)\n    File \"/usr/local/lib/python3.8/dist-packages/keras/engine/training.py\", line 561, in __call__\n      return super().__call__(*args, **kwargs)\n    File \"/usr/local/lib/python3.8/dist-packages/keras/utils/traceback_utils.py\", line 65, in error_handler\n      return fn(*args, **kwargs)\n    File \"/usr/local/lib/python3.8/dist-packages/keras/engine/base_layer.py\", line 1132, in __call__\n      outputs = call_fn(inputs, *args, **kwargs)\n    File \"/usr/local/lib/python3.8/dist-packages/keras/utils/traceback_utils.py\", line 96, in error_handler\n      return fn(*args, **kwargs)\n    File \"/tf/own/AdvanceDL_Poject_Group9/self_classifier/model.py\", line 10, in call\n      return self.model(x)\n    File \"/usr/local/lib/python3.8/dist-packages/keras/utils/traceback_utils.py\", line 65, in error_handler\n      return fn(*args, **kwargs)\n    File \"/usr/local/lib/python3.8/dist-packages/keras/engine/training.py\", line 561, in __call__\n      return super().__call__(*args, **kwargs)\n    File \"/usr/local/lib/python3.8/dist-packages/keras/utils/traceback_utils.py\", line 65, in error_handler\n      return fn(*args, **kwargs)\n    File \"/usr/local/lib/python3.8/dist-packages/keras/engine/base_layer.py\", line 1132, in __call__\n      outputs = call_fn(inputs, *args, **kwargs)\n    File \"/usr/local/lib/python3.8/dist-packages/keras/utils/traceback_utils.py\", line 96, in error_handler\n      return fn(*args, **kwargs)\n    File \"/usr/local/lib/python3.8/dist-packages/keras/engine/sequential.py\", line 413, in call\n      return super().call(inputs, training=training, mask=mask)\n    File \"/usr/local/lib/python3.8/dist-packages/keras/engine/functional.py\", line 511, in call\n      return self._run_internal_graph(inputs, training=training, mask=mask)\n    File \"/usr/local/lib/python3.8/dist-packages/keras/engine/functional.py\", line 668, in _run_internal_graph\n      outputs = node.layer(*args, **kwargs)\n    File \"/usr/local/lib/python3.8/dist-packages/keras/utils/traceback_utils.py\", line 65, in error_handler\n      return fn(*args, **kwargs)\n    File \"/usr/local/lib/python3.8/dist-packages/keras/engine/training.py\", line 561, in __call__\n      return super().__call__(*args, **kwargs)\n    File \"/usr/local/lib/python3.8/dist-packages/keras/utils/traceback_utils.py\", line 65, in error_handler\n      return fn(*args, **kwargs)\n    File \"/usr/local/lib/python3.8/dist-packages/keras/engine/base_layer.py\", line 1132, in __call__\n      outputs = call_fn(inputs, *args, **kwargs)\n    File \"/usr/local/lib/python3.8/dist-packages/keras/utils/traceback_utils.py\", line 96, in error_handler\n      return fn(*args, **kwargs)\n    File \"/usr/local/lib/python3.8/dist-packages/keras/engine/functional.py\", line 511, in call\n      return self._run_internal_graph(inputs, training=training, mask=mask)\n    File \"/usr/local/lib/python3.8/dist-packages/keras/engine/functional.py\", line 668, in _run_internal_graph\n      outputs = node.layer(*args, **kwargs)\n    File \"/usr/local/lib/python3.8/dist-packages/keras/utils/traceback_utils.py\", line 65, in error_handler\n      return fn(*args, **kwargs)\n    File \"/usr/local/lib/python3.8/dist-packages/keras/engine/base_layer.py\", line 1132, in __call__\n      outputs = call_fn(inputs, *args, **kwargs)\n    File \"/usr/local/lib/python3.8/dist-packages/keras/utils/traceback_utils.py\", line 96, in error_handler\n      return fn(*args, **kwargs)\n    File \"/usr/local/lib/python3.8/dist-packages/keras/layers/convolutional/base_conv.py\", line 283, in call\n      outputs = self.convolution_op(inputs, self.kernel)\n    File \"/usr/local/lib/python3.8/dist-packages/keras/layers/convolutional/base_conv.py\", line 255, in convolution_op\n      return tf.nn.convolution(\nNode: 'pretrained_model/sequential/resnet50/conv1_conv/Conv2D_1'\nOOM when allocating tensor with shape[64,64,112,112] and type float on /job:localhost/replica:0/task:0/device:GPU:0 by allocator GPU_0_bfc\n\t [[{{node pretrained_model/sequential/resnet50/conv1_conv/Conv2D_1}}]]\nHint: If you want to see a list of allocated tensors when OOM happens, add report_tensor_allocations_upon_oom to RunOptions for current allocation info. This isn't available when running in Eager mode.\n [Op:__inference_fn_with_cond_25533]",
     "output_type": "error",
     "traceback": [
      "\u001b[0;31m---------------------------------------------------------------------------\u001b[0m",
      "\u001b[0;31mResourceExhaustedError\u001b[0m                    Traceback (most recent call last)",
      "Cell \u001b[0;32mIn [13], line 1\u001b[0m\n\u001b[0;32m----> 1\u001b[0m \u001b[43mtraining_run\u001b[49m\u001b[43m(\u001b[49m\u001b[43m)\u001b[49m\n",
      "Cell \u001b[0;32mIn [12], line 34\u001b[0m, in \u001b[0;36mtraining_run\u001b[0;34m()\u001b[0m\n\u001b[1;32m     29\u001b[0m learner \u001b[38;5;241m=\u001b[39m sc\u001b[38;5;241m.\u001b[39mUnderSupervisedLearner(model\u001b[38;5;241m=\u001b[39mmodel, optimizer\u001b[38;5;241m=\u001b[39moptimizer,\n\u001b[1;32m     30\u001b[0m                              loss_object_train\u001b[38;5;241m=\u001b[39mloss_object_train,\n\u001b[1;32m     31\u001b[0m                              loss_object_test\u001b[38;5;241m=\u001b[39mloss_object_test,\n\u001b[1;32m     32\u001b[0m                              recorder\u001b[38;5;241m=\u001b[39mrecorder)\n\u001b[1;32m     33\u001b[0m \u001b[38;5;66;03m# Train the model\u001b[39;00m\n\u001b[0;32m---> 34\u001b[0m \u001b[38;5;28;01mreturn\u001b[39;00m \u001b[43mlearner\u001b[49m\u001b[38;5;241;43m.\u001b[39;49m\u001b[43mfit\u001b[49m\u001b[43m(\u001b[49m\u001b[43mconfig\u001b[49m\u001b[38;5;241;43m=\u001b[39;49m\u001b[43mconfig\u001b[49m\u001b[43m,\u001b[49m\u001b[43m \u001b[49m\u001b[43mtrain_ds\u001b[49m\u001b[38;5;241;43m=\u001b[39;49m\u001b[43mtrain_ds\u001b[49m\u001b[43m,\u001b[49m\n\u001b[1;32m     35\u001b[0m \u001b[43m                   \u001b[49m\u001b[43mtest_ds\u001b[49m\u001b[38;5;241;43m=\u001b[39;49m\u001b[43mtest_ds\u001b[49m\u001b[43m,\u001b[49m\u001b[43m \u001b[49m\u001b[43mplot_every\u001b[49m\u001b[38;5;241;43m=\u001b[39;49m\u001b[38;5;241;43m5\u001b[39;49m\u001b[43m)\u001b[49m\n",
      "File \u001b[0;32m/tf/own/AdvanceDL_Poject_Group9/self_classifier/learn.py:101\u001b[0m, in \u001b[0;36mUnderSupervisedLearner.fit\u001b[0;34m(self, config, train_ds, test_ds, plot_every, early_stopping, patience, wait_epoch)\u001b[0m\n\u001b[1;32m     99\u001b[0m \u001b[38;5;28;01mfor\u001b[39;00m _, \u001b[38;5;241m*\u001b[39maugments \u001b[38;5;129;01min\u001b[39;00m tqdm(train_ds, \u001b[38;5;124m\"\u001b[39m\u001b[38;5;124mTraining\u001b[39m\u001b[38;5;124m\"\u001b[39m):\n\u001b[1;32m    100\u001b[0m     a1, a2 \u001b[38;5;241m=\u001b[39m rand_augment(augments, \u001b[38;5;241m2\u001b[39m)\n\u001b[0;32m--> 101\u001b[0m     loss \u001b[38;5;241m=\u001b[39m \u001b[38;5;28;43mself\u001b[39;49m\u001b[38;5;241;43m.\u001b[39;49m\u001b[43mtrain_step\u001b[49m\u001b[43m(\u001b[49m\u001b[43ma1\u001b[49m\u001b[43m,\u001b[49m\u001b[43m \u001b[49m\u001b[43ma2\u001b[49m\u001b[43m)\u001b[49m\n\u001b[1;32m    102\u001b[0m     \u001b[38;5;28mself\u001b[39m\u001b[38;5;241m.\u001b[39mtrain_loss(loss)\n\u001b[1;32m    104\u001b[0m \u001b[38;5;66;03m# Validation loop\u001b[39;00m\n",
      "File \u001b[0;32m/usr/local/lib/python3.8/dist-packages/tensorflow/python/util/traceback_utils.py:153\u001b[0m, in \u001b[0;36mfilter_traceback.<locals>.error_handler\u001b[0;34m(*args, **kwargs)\u001b[0m\n\u001b[1;32m    151\u001b[0m \u001b[38;5;28;01mexcept\u001b[39;00m \u001b[38;5;167;01mException\u001b[39;00m \u001b[38;5;28;01mas\u001b[39;00m e:\n\u001b[1;32m    152\u001b[0m   filtered_tb \u001b[38;5;241m=\u001b[39m _process_traceback_frames(e\u001b[38;5;241m.\u001b[39m__traceback__)\n\u001b[0;32m--> 153\u001b[0m   \u001b[38;5;28;01mraise\u001b[39;00m e\u001b[38;5;241m.\u001b[39mwith_traceback(filtered_tb) \u001b[38;5;28;01mfrom\u001b[39;00m \u001b[38;5;28mNone\u001b[39m\n\u001b[1;32m    154\u001b[0m \u001b[38;5;28;01mfinally\u001b[39;00m:\n\u001b[1;32m    155\u001b[0m   \u001b[38;5;28;01mdel\u001b[39;00m filtered_tb\n",
      "File \u001b[0;32m/usr/local/lib/python3.8/dist-packages/tensorflow/python/eager/execute.py:52\u001b[0m, in \u001b[0;36mquick_execute\u001b[0;34m(op_name, num_outputs, inputs, attrs, ctx, name)\u001b[0m\n\u001b[1;32m     50\u001b[0m \u001b[38;5;28;01mtry\u001b[39;00m:\n\u001b[1;32m     51\u001b[0m   ctx\u001b[38;5;241m.\u001b[39mensure_initialized()\n\u001b[0;32m---> 52\u001b[0m   tensors \u001b[38;5;241m=\u001b[39m pywrap_tfe\u001b[38;5;241m.\u001b[39mTFE_Py_Execute(ctx\u001b[38;5;241m.\u001b[39m_handle, device_name, op_name,\n\u001b[1;32m     53\u001b[0m                                       inputs, attrs, num_outputs)\n\u001b[1;32m     54\u001b[0m \u001b[38;5;28;01mexcept\u001b[39;00m core\u001b[38;5;241m.\u001b[39m_NotOkStatusException \u001b[38;5;28;01mas\u001b[39;00m e:\n\u001b[1;32m     55\u001b[0m   \u001b[38;5;28;01mif\u001b[39;00m name \u001b[38;5;129;01mis\u001b[39;00m \u001b[38;5;129;01mnot\u001b[39;00m \u001b[38;5;28;01mNone\u001b[39;00m:\n",
      "\u001b[0;31mResourceExhaustedError\u001b[0m: Graph execution error:\n\nDetected at node 'pretrained_model/sequential/resnet50/conv1_conv/Conv2D_1' defined at (most recent call last):\n    File \"/usr/lib/python3.8/runpy.py\", line 194, in _run_module_as_main\n      return _run_code(code, main_globals, None,\n    File \"/usr/lib/python3.8/runpy.py\", line 87, in _run_code\n      exec(code, run_globals)\n    File \"/usr/local/lib/python3.8/dist-packages/ipykernel_launcher.py\", line 16, in <module>\n      app.launch_new_instance()\n    File \"/usr/local/lib/python3.8/dist-packages/traitlets/config/application.py\", line 982, in launch_instance\n      app.start()\n    File \"/usr/local/lib/python3.8/dist-packages/ipykernel/kernelapp.py\", line 505, in start\n      self.io_loop.start()\n    File \"/usr/local/lib/python3.8/dist-packages/tornado/platform/asyncio.py\", line 215, in start\n      self.asyncio_loop.run_forever()\n    File \"/usr/lib/python3.8/asyncio/base_events.py\", line 570, in run_forever\n      self._run_once()\n    File \"/usr/lib/python3.8/asyncio/base_events.py\", line 1859, in _run_once\n      handle._run()\n    File \"/usr/lib/python3.8/asyncio/events.py\", line 81, in _run\n      self._context.run(self._callback, *self._args)\n    File \"/usr/local/lib/python3.8/dist-packages/tornado/ioloop.py\", line 687, in <lambda>\n      lambda f: self._run_callback(functools.partial(callback, future))\n    File \"/usr/local/lib/python3.8/dist-packages/tornado/ioloop.py\", line 740, in _run_callback\n      ret = callback()\n    File \"/usr/local/lib/python3.8/dist-packages/tornado/gen.py\", line 821, in inner\n      self.ctx_run(self.run)\n    File \"/usr/local/lib/python3.8/dist-packages/tornado/gen.py\", line 782, in run\n      yielded = self.gen.send(value)\n    File \"/usr/local/lib/python3.8/dist-packages/ipykernel/kernelbase.py\", line 378, in dispatch_queue\n      yield self.process_one()\n    File \"/usr/local/lib/python3.8/dist-packages/tornado/gen.py\", line 250, in wrapper\n      runner = Runner(ctx_run, result, future, yielded)\n    File \"/usr/local/lib/python3.8/dist-packages/tornado/gen.py\", line 748, in __init__\n      self.ctx_run(self.run)\n    File \"/usr/local/lib/python3.8/dist-packages/tornado/gen.py\", line 782, in run\n      yielded = self.gen.send(value)\n    File \"/usr/local/lib/python3.8/dist-packages/ipykernel/kernelbase.py\", line 365, in process_one\n      yield gen.maybe_future(dispatch(*args))\n    File \"/usr/local/lib/python3.8/dist-packages/tornado/gen.py\", line 234, in wrapper\n      yielded = ctx_run(next, result)\n    File \"/usr/local/lib/python3.8/dist-packages/ipykernel/kernelbase.py\", line 272, in dispatch_shell\n      yield gen.maybe_future(handler(stream, idents, msg))\n    File \"/usr/local/lib/python3.8/dist-packages/tornado/gen.py\", line 234, in wrapper\n      yielded = ctx_run(next, result)\n    File \"/usr/local/lib/python3.8/dist-packages/ipykernel/kernelbase.py\", line 540, in execute_request\n      self.do_execute(\n    File \"/usr/local/lib/python3.8/dist-packages/tornado/gen.py\", line 234, in wrapper\n      yielded = ctx_run(next, result)\n    File \"/usr/local/lib/python3.8/dist-packages/ipykernel/ipkernel.py\", line 294, in do_execute\n      res = shell.run_cell(code, store_history=store_history, silent=silent)\n    File \"/usr/local/lib/python3.8/dist-packages/ipykernel/zmqshell.py\", line 536, in run_cell\n      return super(ZMQInteractiveShell, self).run_cell(*args, **kwargs)\n    File \"/usr/local/lib/python3.8/dist-packages/IPython/core/interactiveshell.py\", line 2940, in run_cell\n      result = self._run_cell(\n    File \"/usr/local/lib/python3.8/dist-packages/IPython/core/interactiveshell.py\", line 2995, in _run_cell\n      return runner(coro)\n    File \"/usr/local/lib/python3.8/dist-packages/IPython/core/async_helpers.py\", line 129, in _pseudo_sync_runner\n      coro.send(None)\n    File \"/usr/local/lib/python3.8/dist-packages/IPython/core/interactiveshell.py\", line 3194, in run_cell_async\n      has_raised = await self.run_ast_nodes(code_ast.body, cell_name,\n    File \"/usr/local/lib/python3.8/dist-packages/IPython/core/interactiveshell.py\", line 3373, in run_ast_nodes\n      if await self.run_code(code, result, async_=asy):\n    File \"/usr/local/lib/python3.8/dist-packages/IPython/core/interactiveshell.py\", line 3433, in run_code\n      exec(code_obj, self.user_global_ns, self.user_ns)\n    File \"<ipython-input-13-e8f6010ec167>\", line 1, in <module>\n      training_run()\n    File \"<ipython-input-12-df382f9f6dc4>\", line 34, in training_run\n      return learner.fit(config=config, train_ds=train_ds,\n    File \"/tf/own/AdvanceDL_Poject_Group9/self_classifier/learn.py\", line 101, in fit\n      loss = self.train_step(a1, a2)\n    File \"/tf/own/AdvanceDL_Poject_Group9/self_classifier/learn.py\", line 48, in train_step\n      s2 = self.model(a2, training=True)\n    File \"/usr/local/lib/python3.8/dist-packages/keras/utils/traceback_utils.py\", line 65, in error_handler\n      return fn(*args, **kwargs)\n    File \"/usr/local/lib/python3.8/dist-packages/keras/engine/training.py\", line 561, in __call__\n      return super().__call__(*args, **kwargs)\n    File \"/usr/local/lib/python3.8/dist-packages/keras/utils/traceback_utils.py\", line 65, in error_handler\n      return fn(*args, **kwargs)\n    File \"/usr/local/lib/python3.8/dist-packages/keras/engine/base_layer.py\", line 1132, in __call__\n      outputs = call_fn(inputs, *args, **kwargs)\n    File \"/usr/local/lib/python3.8/dist-packages/keras/utils/traceback_utils.py\", line 96, in error_handler\n      return fn(*args, **kwargs)\n    File \"/tf/own/AdvanceDL_Poject_Group9/self_classifier/model.py\", line 10, in call\n      return self.model(x)\n    File \"/usr/local/lib/python3.8/dist-packages/keras/utils/traceback_utils.py\", line 65, in error_handler\n      return fn(*args, **kwargs)\n    File \"/usr/local/lib/python3.8/dist-packages/keras/engine/training.py\", line 561, in __call__\n      return super().__call__(*args, **kwargs)\n    File \"/usr/local/lib/python3.8/dist-packages/keras/utils/traceback_utils.py\", line 65, in error_handler\n      return fn(*args, **kwargs)\n    File \"/usr/local/lib/python3.8/dist-packages/keras/engine/base_layer.py\", line 1132, in __call__\n      outputs = call_fn(inputs, *args, **kwargs)\n    File \"/usr/local/lib/python3.8/dist-packages/keras/utils/traceback_utils.py\", line 96, in error_handler\n      return fn(*args, **kwargs)\n    File \"/usr/local/lib/python3.8/dist-packages/keras/engine/sequential.py\", line 413, in call\n      return super().call(inputs, training=training, mask=mask)\n    File \"/usr/local/lib/python3.8/dist-packages/keras/engine/functional.py\", line 511, in call\n      return self._run_internal_graph(inputs, training=training, mask=mask)\n    File \"/usr/local/lib/python3.8/dist-packages/keras/engine/functional.py\", line 668, in _run_internal_graph\n      outputs = node.layer(*args, **kwargs)\n    File \"/usr/local/lib/python3.8/dist-packages/keras/utils/traceback_utils.py\", line 65, in error_handler\n      return fn(*args, **kwargs)\n    File \"/usr/local/lib/python3.8/dist-packages/keras/engine/training.py\", line 561, in __call__\n      return super().__call__(*args, **kwargs)\n    File \"/usr/local/lib/python3.8/dist-packages/keras/utils/traceback_utils.py\", line 65, in error_handler\n      return fn(*args, **kwargs)\n    File \"/usr/local/lib/python3.8/dist-packages/keras/engine/base_layer.py\", line 1132, in __call__\n      outputs = call_fn(inputs, *args, **kwargs)\n    File \"/usr/local/lib/python3.8/dist-packages/keras/utils/traceback_utils.py\", line 96, in error_handler\n      return fn(*args, **kwargs)\n    File \"/usr/local/lib/python3.8/dist-packages/keras/engine/functional.py\", line 511, in call\n      return self._run_internal_graph(inputs, training=training, mask=mask)\n    File \"/usr/local/lib/python3.8/dist-packages/keras/engine/functional.py\", line 668, in _run_internal_graph\n      outputs = node.layer(*args, **kwargs)\n    File \"/usr/local/lib/python3.8/dist-packages/keras/utils/traceback_utils.py\", line 65, in error_handler\n      return fn(*args, **kwargs)\n    File \"/usr/local/lib/python3.8/dist-packages/keras/engine/base_layer.py\", line 1132, in __call__\n      outputs = call_fn(inputs, *args, **kwargs)\n    File \"/usr/local/lib/python3.8/dist-packages/keras/utils/traceback_utils.py\", line 96, in error_handler\n      return fn(*args, **kwargs)\n    File \"/usr/local/lib/python3.8/dist-packages/keras/layers/convolutional/base_conv.py\", line 283, in call\n      outputs = self.convolution_op(inputs, self.kernel)\n    File \"/usr/local/lib/python3.8/dist-packages/keras/layers/convolutional/base_conv.py\", line 255, in convolution_op\n      return tf.nn.convolution(\nNode: 'pretrained_model/sequential/resnet50/conv1_conv/Conv2D_1'\nOOM when allocating tensor with shape[64,64,112,112] and type float on /job:localhost/replica:0/task:0/device:GPU:0 by allocator GPU_0_bfc\n\t [[{{node pretrained_model/sequential/resnet50/conv1_conv/Conv2D_1}}]]\nHint: If you want to see a list of allocated tensors when OOM happens, add report_tensor_allocations_upon_oom to RunOptions for current allocation info. This isn't available when running in Eager mode.\n [Op:__inference_fn_with_cond_25533]"
     ]
    }
   ],
   "source": [
    "training_run()"
   ]
  },
  {
   "cell_type": "code",
   "execution_count": null,
   "metadata": {},
   "outputs": [],
   "source": [
    "Epoch 100, Learning Rate: 0.00000, Epoch time: 44.60 seconds\n",
    "Loss: 2.949, Valid Loss: 3.2299, NMI: 0.7990, AMI: 0.0597, ARI: 0.0467, ACC: 0.4341, "
   ]
  },
  {
   "cell_type": "code",
   "execution_count": null,
   "metadata": {},
   "outputs": [],
   "source": [
    "Epoch 100, Learning Rate: 0.00000, Epoch time: 45.32 seconds\n",
    "Loss: 3.044, Valid Loss: 3.3234, NMI: 0.7902, AMI: 0.0507, ARI: 0.0381, ACC: 0.4162, "
   ]
  },
  {
   "cell_type": "code",
   "execution_count": null,
   "metadata": {},
   "outputs": [],
   "source": []
  },
  {
   "cell_type": "markdown",
   "metadata": {},
   "source": [
    "## Run study"
   ]
  },
  {
   "cell_type": "code",
   "execution_count": null,
   "metadata": {
    "id": "O7fZLNgR70Cq"
   },
   "outputs": [],
   "source": [
    "def objective(trial):\n",
    "    # Create a data recorder and fit the data\n",
    "    recorder = sc.DataRecorder()\n",
    "    \n",
    "    # Instansiate loss function\n",
    "    loss_object_test = tf.keras.losses.SparseCategoricalCrossentropy(from_logits=True)\n",
    "    # Instansiate SelfClassifier loss function\n",
    "    loss_object_train = sc.SelfClassifier(n_batch=config['BATCH_SIZE'], \n",
    "                        n_class=config['CLASS_COUNT'], t_r=0.1, t_c=0.05)\n",
    "    # Instansiate optimizer \n",
    "    optimizer = tf.keras.optimizers.Adam()\n",
    "    decay_steps = len(train_ds)*config['EPOCHS']\n",
    "    \n",
    "    learning_rate = trial.suggest_float(\"learning_rate\", \n",
    "                                  config['MAX_LR']*0.01, config['MAX_LR'])\n",
    "    optimizer.learning_rate = tf.keras.optimizers.schedules.CosineDecay(\n",
    "        learning_rate, decay_steps, alpha=0.0, name=None\n",
    "    )\n",
    "    \n",
    "    # Select backbone \n",
    "    backbone = trial.suggest_categorical('backbone',[\n",
    "        \"ResNet50\", \"EfficientNetB0\", \"EfficientNetB1\", \"MobileNet\"])\n",
    "    activation = trial.suggest_categorical('activation', [\n",
    "        \"linear\", \"relu\", \"selu\"])\n",
    "    \n",
    "    # Create an instance of the model\n",
    "    model = sc.PretrainedModel(pre_model=backbone,\n",
    "                               activation=activation,\n",
    "                               input_shape=config['IMAGE_SHAPE'],\n",
    "                               output_shape=config['CLASS_COUNT'])\n",
    "\n",
    "    learner = sc.UnderSupervisedLearner(model=model, optimizer=optimizer,\n",
    "                                 loss_object_train=loss_object_train,\n",
    "                                 loss_object_test=loss_object_test,\n",
    "                                 recorder=recorder)\n",
    "    # Train the model\n",
    "    return learner.fit(config=config, train_ds=train_ds,\n",
    "                       test_ds=test_ds, plot_every=5)"
   ]
  },
  {
   "cell_type": "code",
   "execution_count": null,
   "metadata": {
    "colab": {
     "base_uri": "https://localhost:8080/"
    },
    "executionInfo": {
     "elapsed": 1158,
     "status": "ok",
     "timestamp": 1669984907157,
     "user": {
      "displayName": "Johan Ahnfalk",
      "userId": "16853987390072953697"
     },
     "user_tz": -60
    },
    "id": "_vwnneDA85nA",
    "outputId": "1aff2808-7781-4a00-9015-2fd3fa7bc9e6"
   },
   "outputs": [],
   "source": [
    "import logging\n",
    "import sys\n",
    "import optuna\n",
    "\n",
    "# Add stream handler of stdout to show the messages\n",
    "optuna.logging.get_logger(\"optuna\").addHandler(logging.StreamHandler(sys.stdout))\n",
    "study_name = \"cifar100-backbone-study\"  # Unique identifier of the study.\n",
    "storage_name = \"sqlite:///studies/{}.db\".format(study_name)\n",
    "study = optuna.create_study(study_name=study_name, storage=storage_name, \n",
    "                            directions=[\"minimize\", \"maximize\"],\n",
    "                            load_if_exists=True)"
   ]
  },
  {
   "cell_type": "code",
   "execution_count": null,
   "metadata": {
    "colab": {
     "base_uri": "https://localhost:8080/",
     "height": 1000
    },
    "executionInfo": {
     "elapsed": 4556675,
     "status": "error",
     "timestamp": 1669989474452,
     "user": {
      "displayName": "Johan Ahnfalk",
      "userId": "16853987390072953697"
     },
     "user_tz": -60
    },
    "id": "CMfqDWkT3YDE",
    "outputId": "ab613515-b08c-49b2-bd04-9ce397b55692",
    "scrolled": true
   },
   "outputs": [],
   "source": [
    "study.optimize(objective, n_trials=30)"
   ]
  },
  {
   "cell_type": "markdown",
   "metadata": {
    "id": "dojjoP6dHGLj"
   },
   "source": [
    "## Plot Final Metrics"
   ]
  },
  {
   "cell_type": "code",
   "execution_count": null,
   "metadata": {
    "colab": {
     "base_uri": "https://localhost:8080/"
    },
    "executionInfo": {
     "elapsed": 7,
     "status": "ok",
     "timestamp": 1669989482589,
     "user": {
      "displayName": "Johan Ahnfalk",
      "userId": "16853987390072953697"
     },
     "user_tz": -60
    },
    "id": "TtoH-wvJMqwf",
    "outputId": "c1072554-92e6-4cff-d0e6-3a0cfe134bff"
   },
   "outputs": [],
   "source": [
    "print(f\"Number of trials: {len(study.trials)}\")\n",
    "\n",
    "trial_with_smallest_loss = min(study.best_trials, key=lambda t: t.values[0])\n",
    "print(f\"Trial with smallest loss: \")\n",
    "print(f\"\\tnumber: {trial_with_smallest_loss.number}\")\n",
    "print(f\"\\tparams: {trial_with_smallest_loss.params}\")\n",
    "print(f\"\\tvalues: {trial_with_smallest_loss.values}\")\n",
    "print()\n",
    "\n",
    "trial_with_highest_accuracy = max(study.best_trials, key=lambda t: t.values[1])\n",
    "print(f\"Trial with highest accuracy: \")\n",
    "print(f\"\\tnumber: {trial_with_highest_accuracy.number}\")\n",
    "print(f\"\\tparams: {trial_with_highest_accuracy.params}\")\n",
    "print(f\"\\tvalues: {trial_with_highest_accuracy.values}\")"
   ]
  },
  {
   "cell_type": "code",
   "execution_count": null,
   "metadata": {
    "colab": {
     "base_uri": "https://localhost:8080/",
     "height": 542
    },
    "executionInfo": {
     "elapsed": 602,
     "status": "ok",
     "timestamp": 1669989486910,
     "user": {
      "displayName": "Johan Ahnfalk",
      "userId": "16853987390072953697"
     },
     "user_tz": -60
    },
    "id": "YRqMps9pM7Uj",
    "outputId": "60621921-f2de-416b-b8f3-d5b0e7d934bb"
   },
   "outputs": [],
   "source": [
    "optuna.visualization.plot_pareto_front(study, target_names=[\"Loss\", \"Accuracy\"])"
   ]
  },
  {
   "cell_type": "code",
   "execution_count": null,
   "metadata": {
    "colab": {
     "base_uri": "https://localhost:8080/",
     "height": 542
    },
    "executionInfo": {
     "elapsed": 13,
     "status": "ok",
     "timestamp": 1669989505052,
     "user": {
      "displayName": "Johan Ahnfalk",
      "userId": "16853987390072953697"
     },
     "user_tz": -60
    },
    "id": "jHHQx2ncZIBf",
    "outputId": "8f056ae4-d83f-4c04-8b6a-cc13f4b9f7fe"
   },
   "outputs": [],
   "source": [
    "optuna.visualization.plot_param_importances(\n",
    "    study, target=lambda t: t.values[0], target_name=\"Loss\"\n",
    ")"
   ]
  },
  {
   "cell_type": "code",
   "execution_count": null,
   "metadata": {
    "colab": {
     "base_uri": "https://localhost:8080/",
     "height": 542
    },
    "executionInfo": {
     "elapsed": 1167,
     "status": "ok",
     "timestamp": 1669726845897,
     "user": {
      "displayName": "Johan Ahnfalk",
      "userId": "16853987390072953697"
     },
     "user_tz": -60
    },
    "id": "Z8YJylKHZ3kp",
    "outputId": "f1b6380e-59e9-49a7-cc97-8ae1e1818d98"
   },
   "outputs": [],
   "source": [
    "optuna.visualization.plot_param_importances(\n",
    "    study, target=lambda t: t.values[1], target_name=\"Accuracy\"\n",
    ")"
   ]
  },
  {
   "cell_type": "code",
   "execution_count": null,
   "metadata": {
    "id": "IcB1--kBebRa"
   },
   "outputs": [],
   "source": [
    "import plotly"
   ]
  },
  {
   "cell_type": "code",
   "execution_count": null,
   "metadata": {},
   "outputs": [],
   "source": []
  }
 ],
 "metadata": {
  "accelerator": "GPU",
  "colab": {
   "authorship_tag": "ABX9TyMZ7SsRtGPSrtbBCcjusI0z",
   "provenance": [
    {
     "file_id": "1xkdbldMODGrUXVjmWDQ-_fvtEMx1YBzH",
     "timestamp": 1669051962554
    },
    {
     "file_id": "1UsweZEgj8x9WgRwb45rPFr_BB0Fkl4NJ",
     "timestamp": 1668115841226
    }
   ]
  },
  "gpuClass": "standard",
  "kernelspec": {
   "display_name": "Python 3",
   "language": "python",
   "name": "python3"
  },
  "language_info": {
   "codemirror_mode": {
    "name": "ipython",
    "version": 3
   },
   "file_extension": ".py",
   "mimetype": "text/x-python",
   "name": "python",
   "nbconvert_exporter": "python",
   "pygments_lexer": "ipython3",
   "version": "3.8.10"
  },
  "vscode": {
   "interpreter": {
    "hash": "e7370f93d1d0cde622a1f8e1c04877d8463912d04d973331ad4851f04de6915a"
   }
  }
 },
 "nbformat": 4,
 "nbformat_minor": 1
}
