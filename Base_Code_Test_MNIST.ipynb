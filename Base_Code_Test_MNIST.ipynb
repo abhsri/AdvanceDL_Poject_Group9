{
  "nbformat": 4,
  "nbformat_minor": 0,
  "metadata": {
    "colab": {
      "provenance": []
    },
    "kernelspec": {
      "name": "python3",
      "display_name": "Python 3"
    },
    "language_info": {
      "name": "python"
    }
  },
  "cells": [
    {
      "cell_type": "code",
      "execution_count": 1,
      "metadata": {
        "id": "7qB2mwLGIA6x"
      },
      "outputs": [],
      "source": [
        "import numpy as np\n",
        "import tensorflow as tf\n",
        "import scipy as scp\n",
        "import sklearn as skl\n",
        "from tqdm import tqdm\n",
        "import matplotlib.pyplot as plt\n",
        "import imgaug.augmenters as iaa"
      ]
    },
    {
      "cell_type": "code",
      "source": [
        "(X_train, Y_train), (X_test, Y_test) = tf.keras.datasets.mnist.load_data()"
      ],
      "metadata": {
        "colab": {
          "base_uri": "https://localhost:8080/"
        },
        "id": "_jjOHcr9t007",
        "outputId": "efa71941-b050-4a20-d110-97883692f8df"
      },
      "execution_count": 2,
      "outputs": [
        {
          "output_type": "stream",
          "name": "stdout",
          "text": [
            "Downloading data from https://storage.googleapis.com/tensorflow/tf-keras-datasets/mnist.npz\n",
            "11490434/11490434 [==============================] - 0s 0us/step\n"
          ]
        }
      ]
    },
    {
      "cell_type": "code",
      "source": [
        "X_test.shape"
      ],
      "metadata": {
        "colab": {
          "base_uri": "https://localhost:8080/"
        },
        "id": "UsJRE5YgFvvR",
        "outputId": "f4462bc1-a40e-4192-e14b-259a3bd3b93e"
      },
      "execution_count": 3,
      "outputs": [
        {
          "output_type": "execute_result",
          "data": {
            "text/plain": [
              "(10000, 28, 28)"
            ]
          },
          "metadata": {},
          "execution_count": 3
        }
      ]
    },
    {
      "cell_type": "code",
      "source": [
        "X1_train = tf.keras.preprocessing.image.random_rotation(\n",
        "    X_train,\n",
        "    30,\n",
        "    row_axis=1,\n",
        "    col_axis=2,\n",
        "    channel_axis=0,\n",
        "    fill_mode='nearest',\n",
        "    cval=0.0,\n",
        "    interpolation_order=1\n",
        ")\n",
        "\n",
        "X1_test = tf.keras.preprocessing.image.random_rotation(\n",
        "    X_test,\n",
        "    30,\n",
        "    row_axis=1,\n",
        "    col_axis=2,\n",
        "    channel_axis=0,\n",
        "    fill_mode='nearest',\n",
        "    cval=0.0,\n",
        "    interpolation_order=1\n",
        ")"
      ],
      "metadata": {
        "id": "EfdhgIuCt3vE"
      },
      "execution_count": 4,
      "outputs": []
    },
    {
      "cell_type": "code",
      "source": [
        "plt.imshow(X_train[0])"
      ],
      "metadata": {
        "colab": {
          "base_uri": "https://localhost:8080/",
          "height": 283
        },
        "id": "aUd9gb1vXGDF",
        "outputId": "6414f0e4-7e7d-42fd-8705-8da7cc0b0bed"
      },
      "execution_count": 7,
      "outputs": [
        {
          "output_type": "execute_result",
          "data": {
            "text/plain": [
              "<matplotlib.image.AxesImage at 0x7ff0a5941490>"
            ]
          },
          "metadata": {},
          "execution_count": 7
        },
        {
          "output_type": "display_data",
          "data": {
            "text/plain": [
              "<Figure size 432x288 with 1 Axes>"
            ],
            "image/png": "[encoded data removed]"
          },
          "metadata": {
            "needs_background": "light"
          }
        }
      ]
    },
    {
      "cell_type": "code",
      "source": [
        "plt.imshow(X1_train[0])"
      ],
      "metadata": {
        "colab": {
          "base_uri": "https://localhost:8080/",
          "height": 283
        },
        "id": "KyxvnHhhW8uk",
        "outputId": "aa200921-7001-4339-be18-5a7a7e9b9989"
      },
      "execution_count": 8,
      "outputs": [
        {
          "output_type": "execute_result",
          "data": {
            "text/plain": [
              "<matplotlib.image.AxesImage at 0x7ff0a592d910>"
            ]
          },
          "metadata": {},
          "execution_count": 8
        },
        {
          "output_type": "display_data",
          "data": {
            "text/plain": [
              "<Figure size 432x288 with 1 Axes>"
            ],
            "image/png": "[encoded data removed]"
          },
          "metadata": {
            "needs_background": "light"
          }
        }
      ]
    },
    {
      "cell_type": "code",
      "source": [
        "X1_test.shape"
      ],
      "metadata": {
        "colab": {
          "base_uri": "https://localhost:8080/"
        },
        "id": "FgYvpUs6mNzW",
        "outputId": "8eb94086-ae92-460b-e97c-ec5b5c000938"
      },
      "execution_count": 9,
      "outputs": [
        {
          "output_type": "execute_result",
          "data": {
            "text/plain": [
              "(10000, 28, 28)"
            ]
          },
          "metadata": {},
          "execution_count": 9
        }
      ]
    },
    {
      "cell_type": "code",
      "source": [
        "X_train = X_train.reshape(-1, 784).astype(\"float32\") / 255.0\n",
        "X1_train = X1_train.reshape(-1, 784).astype(\"float32\") / 255.0\n",
        "X_test = X_test.reshape(-1, 784).astype(\"float32\") / 255.0\n",
        "X1_test = X1_test.reshape(-1, 784).astype(\"float32\") / 255.0\n"
      ],
      "metadata": {
        "id": "VSRPLuSathhN"
      },
      "execution_count": 10,
      "outputs": []
    },
    {
      "cell_type": "code",
      "source": [
        "def tf_unif_prior_crossentropy(pred1,pred2):\n",
        "    N, C = pred1.shape \n",
        "    \n",
        "    t_c = 0.1\n",
        "    t_r = 0.1\n",
        "    \n",
        "    a = tf.nn.softmax(pred2/t_c, axis=0)\n",
        "    b = tf.linalg.norm(a, ord=1,axis=1)\n",
        "    c = a/tf.reshape(b,(N,-1))\n",
        "    part11 = c\n",
        "    d = tf.nn.softmax(pred1/t_r, axis=1)\n",
        "    part21 = tf.reshape(tf.math.log(N/C *d/tf.linalg.norm(d, ord=1, axis=0)), (-1,C))\n",
        "    loss_1 = -tf.math.reduce_sum( part11 * part21 , axis=-1)\n",
        "    \n",
        "    a = tf.nn.softmax(pred1/t_c)\n",
        "    b = tf.linalg.norm(a, ord=1,axis=1)\n",
        "    c = a/tf.reshape(b,(N,-1))\n",
        "    part12 = c\n",
        "    d = tf.nn.softmax(pred2/t_r, axis=1)\n",
        "    part22 = tf.reshape(tf.math.log(N/C *d/tf.linalg.norm(d, ord=1, axis=0)),(-1,C))\n",
        "    loss_2 = -tf.math.reduce_sum( part12*part22 , axis=-1)\n",
        "\n",
        "    return tf.math.reduce_mean(1/2*(loss_1+loss_2))\n"
      ],
      "metadata": {
        "id": "OGJfju60u1qt"
      },
      "execution_count": 11,
      "outputs": []
    },
    {
      "cell_type": "code",
      "source": [
        "model = tf.keras.Sequential([\n",
        "    tf.keras.layers.Input(shape=(28*28), dtype=tf.float32),\n",
        "    tf.keras.layers.Dense(units=256, activation=tf.nn.relu),\n",
        "    tf.keras.layers.BatchNormalization(),\n",
        "    tf.keras.layers.Dense(units=128, activation=tf.nn.relu),\n",
        "    tf.keras.layers.BatchNormalization(),\n",
        "    tf.keras.layers.Dense(10,activation = None, dtype='float32'),\n",
        "    tf.keras.layers.BatchNormalization(),\n",
        "    tf.keras.layers.Activation(\"softmax\")\n",
        "    ])"
      ],
      "metadata": {
        "id": "mrsooEWwtYLX"
      },
      "execution_count": 12,
      "outputs": []
    },
    {
      "cell_type": "code",
      "source": [
        "model.summary()"
      ],
      "metadata": {
        "colab": {
          "base_uri": "https://localhost:8080/"
        },
        "id": "I_jI8fyNzVMi",
        "outputId": "3799552c-8e46-43aa-bb6b-cf2dae5cf84c"
      },
      "execution_count": 13,
      "outputs": [
        {
          "output_type": "stream",
          "name": "stdout",
          "text": [
            "Model: \"sequential\"\n",
            "_________________________________________________________________\n",
            " Layer (type)                Output Shape              Param #   \n",
            "=================================================================\n",
            " dense (Dense)               (None, 256)               200960    \n",
            "                                                                 \n",
            " batch_normalization (BatchN  (None, 256)              1024      \n",
            " ormalization)                                                   \n",
            "                                                                 \n",
            " dense_1 (Dense)             (None, 128)               32896     \n",
            "                                                                 \n",
            " batch_normalization_1 (Batc  (None, 128)              512       \n",
            " hNormalization)                                                 \n",
            "                                                                 \n",
            " dense_2 (Dense)             (None, 10)                1290      \n",
            "                                                                 \n",
            " batch_normalization_2 (Batc  (None, 10)               40        \n",
            " hNormalization)                                                 \n",
            "                                                                 \n",
            " activation (Activation)     (None, 10)                0         \n",
            "                                                                 \n",
            "=================================================================\n",
            "Total params: 236,722\n",
            "Trainable params: 235,934\n",
            "Non-trainable params: 788\n",
            "_________________________________________________________________\n"
          ]
        }
      ]
    },
    {
      "cell_type": "code",
      "source": [
        "optimizer = tf.keras.optimizers.Adam(learning_rate=0.001)\n",
        "\n",
        "NUM_EPOCHS = 10\n",
        "EPOCH_PER_DISPLAY = 1\n",
        "total_loss = []\n",
        "train_dataset = tf.data.Dataset.from_tensor_slices((X_train, X1_train))\n",
        "train_dataset = train_dataset.shuffle(X_train.shape[0]).batch(1000)\n",
        "test_dataset = tf.data.Dataset.from_tensor_slices((X_test, X1_test))\n",
        "test_dataset = test_dataset.shuffle(X_test.shape[0]).batch(10)\n",
        "\n",
        "for epoch in range(NUM_EPOCHS):\n",
        "\n",
        "  running_loss = []\n",
        "  valid_loss = []\n",
        "\n",
        "  for input1, input2 in tqdm(train_dataset):\n",
        "    with tf.GradientTape() as tape:\n",
        "\n",
        "      pred1 = model(input1, training=True)\n",
        "      pred2 = model(input2, training=True)\n",
        "\n",
        "      loss_ = tf_unif_prior_crossentropy(pred1, pred2)\n",
        "\n",
        "      grads = tape.gradient(loss_, model.trainable_variables)\n",
        "      \n",
        "    running_loss.append(loss_)\n",
        "    optimizer.apply_gradients(zip(grads, model.trainable_variables))\n",
        "  \n",
        "  epoch_loss = np.mean(running_loss)\n",
        "  if (epoch + 1) % EPOCH_PER_DISPLAY == 0:\n",
        "    print(\"Epoch {}: Loss: {:.4f}\".format(epoch+1, epoch_loss), end=\"\")\n",
        "  for input1, input2 in train_dataset:\n",
        "    pred1 = model(input1, training=False)\n",
        "    pred2 = model(input2, training=False)\n",
        "    loss_ = tf_unif_prior_crossentropy(pred1, pred2)\n",
        "    valid_loss.append(loss_)\n",
        "    pred1 = pred1.numpy().argmax(axis=1)\n",
        "    pred2 = pred2.numpy().argmax(axis=1)\n",
        "    cor_cnt = 0\n",
        "    for tmp1, tmp2 in zip(pred1, pred2):\n",
        "      if (tmp1 == tmp2):\n",
        "        cor_cnt += 1\n",
        "  print(\"    Valid Loss: {:.4f}   Correct: {}\".format(np.mean(valid_loss), cor_cnt))"
      ],
      "metadata": {
        "colab": {
          "base_uri": "https://localhost:8080/"
        },
        "id": "pnpb0LMBuzGw",
        "outputId": "364fce07-235f-40fb-bbd0-bad61391476c"
      },
      "execution_count": 14,
      "outputs": [
        {
          "output_type": "stream",
          "name": "stderr",
          "text": [
            "100%|██████████| 60/60 [00:10<00:00,  5.60it/s]\n"
          ]
        },
        {
          "output_type": "stream",
          "name": "stdout",
          "text": [
            "Epoch 1: Loss: 1.1191    Valid Loss: 1.7274   Correct: 861\n"
          ]
        },
        {
          "output_type": "stream",
          "name": "stderr",
          "text": [
            "100%|██████████| 60/60 [00:08<00:00,  6.95it/s]\n"
          ]
        },
        {
          "output_type": "stream",
          "name": "stdout",
          "text": [
            "Epoch 2: Loss: 0.5092    Valid Loss: 0.9471   Correct: 933\n"
          ]
        },
        {
          "output_type": "stream",
          "name": "stderr",
          "text": [
            "100%|██████████| 60/60 [00:07<00:00,  7.79it/s]\n"
          ]
        },
        {
          "output_type": "stream",
          "name": "stdout",
          "text": [
            "Epoch 3: Loss: 0.3589    Valid Loss: 0.5305   Correct: 940\n"
          ]
        },
        {
          "output_type": "stream",
          "name": "stderr",
          "text": [
            "100%|██████████| 60/60 [00:10<00:00,  5.85it/s]\n"
          ]
        },
        {
          "output_type": "stream",
          "name": "stdout",
          "text": [
            "Epoch 4: Loss: 0.2811    Valid Loss: 0.3791   Correct: 948\n"
          ]
        },
        {
          "output_type": "stream",
          "name": "stderr",
          "text": [
            "100%|██████████| 60/60 [00:10<00:00,  5.87it/s]\n"
          ]
        },
        {
          "output_type": "stream",
          "name": "stdout",
          "text": [
            "Epoch 5: Loss: 0.2306    Valid Loss: 0.3182   Correct: 952\n"
          ]
        },
        {
          "output_type": "stream",
          "name": "stderr",
          "text": [
            "100%|██████████| 60/60 [00:10<00:00,  5.87it/s]\n"
          ]
        },
        {
          "output_type": "stream",
          "name": "stdout",
          "text": [
            "Epoch 6: Loss: 0.1995    Valid Loss: 0.2864   Correct: 954\n"
          ]
        },
        {
          "output_type": "stream",
          "name": "stderr",
          "text": [
            "100%|██████████| 60/60 [00:07<00:00,  7.92it/s]\n"
          ]
        },
        {
          "output_type": "stream",
          "name": "stdout",
          "text": [
            "Epoch 7: Loss: 0.1743    Valid Loss: 0.2675   Correct: 960\n"
          ]
        },
        {
          "output_type": "stream",
          "name": "stderr",
          "text": [
            "100%|██████████| 60/60 [00:08<00:00,  7.42it/s]\n"
          ]
        },
        {
          "output_type": "stream",
          "name": "stdout",
          "text": [
            "Epoch 8: Loss: 0.1545    Valid Loss: 0.2727   Correct: 956\n"
          ]
        },
        {
          "output_type": "stream",
          "name": "stderr",
          "text": [
            "100%|██████████| 60/60 [00:10<00:00,  5.87it/s]\n"
          ]
        },
        {
          "output_type": "stream",
          "name": "stdout",
          "text": [
            "Epoch 9: Loss: 0.1441    Valid Loss: 0.2719   Correct: 953\n"
          ]
        },
        {
          "output_type": "stream",
          "name": "stderr",
          "text": [
            "100%|██████████| 60/60 [00:10<00:00,  5.87it/s]\n"
          ]
        },
        {
          "output_type": "stream",
          "name": "stdout",
          "text": [
            "Epoch 10: Loss: 0.1346    Valid Loss: 0.2506   Correct: 946\n"
          ]
        }
      ]
    },
    {
      "cell_type": "code",
      "source": [],
      "metadata": {
        "id": "jfIi1uRitYlD"
      },
      "execution_count": null,
      "outputs": []
    },
    {
      "cell_type": "code",
      "source": [],
      "metadata": {
        "id": "dsE4mOh-V9Wh"
      },
      "execution_count": null,
      "outputs": []
    },
    {
      "cell_type": "code",
      "source": [],
      "metadata": {
        "id": "FMS99CTtIOaZ"
      },
      "execution_count": null,
      "outputs": []
    }
  ]
}